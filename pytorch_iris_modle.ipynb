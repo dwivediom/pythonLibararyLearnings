{
 "cells": [
  {
   "cell_type": "code",
   "execution_count": 21,
   "id": "08bfe21b-3db2-4a61-9ce5-2a85375685fd",
   "metadata": {},
   "outputs": [],
   "source": [
    "import torch \n",
    "import torch.nn as nn \n",
    "import torch.nn.functional as F \n",
    "import pandas as pd  \n",
    "import matplotlib.pyplot  as plt \n"
   ]
  },
  {
   "cell_type": "code",
   "execution_count": 2,
   "id": "0dd8d071-3d3f-488d-b541-f34956a22a8e",
   "metadata": {},
   "outputs": [],
   "source": [
    "class Model(nn.Module) :\n",
    "    def __init__( self , input_features=4 , h1= 8 , h2= 9 , out_features = 3 ) : \n",
    "      super().__init__() \n",
    "      self.fc1 = nn.Linear( input_features , h1 ) \n",
    "      self.fc2 = nn.Linear( h1 , h2) \n",
    "      self.out = nn.Linear( h2 , out_features ) \n",
    "        \n",
    "    def forward(self , x ): \n",
    "      x = F.relu(self.fc1(x) ) \n",
    "      x = F.relu(self.fc2(x)) \n",
    "      x= self.out(x) \n",
    "        \n",
    "      return x "
   ]
  },
  {
   "cell_type": "code",
   "execution_count": 3,
   "id": "6147e3b5-87de-48c2-9304-da92f01f37f5",
   "metadata": {},
   "outputs": [],
   "source": [
    "#pick a manual seed for  randomazation ( wheight and bias ) \n",
    "torch.manual_seed(41) #pick a manual seed for  randomazation ( wheight and bias ) \n",
    "model = Model() "
   ]
  },
  {
   "cell_type": "code",
   "execution_count": 4,
   "id": "73156eae-aecc-4354-aebb-7c3136e83199",
   "metadata": {},
   "outputs": [],
   "source": [
    "my_df = pd.read_csv(\"./8836201/iris.csv\") "
   ]
  },
  {
   "cell_type": "code",
   "execution_count": 5,
   "id": "3c081ec9-6c16-4516-8f9b-7adad3274554",
   "metadata": {},
   "outputs": [
    {
     "data": {
      "text/html": [
       "<div>\n",
       "<style scoped>\n",
       "    .dataframe tbody tr th:only-of-type {\n",
       "        vertical-align: middle;\n",
       "    }\n",
       "\n",
       "    .dataframe tbody tr th {\n",
       "        vertical-align: top;\n",
       "    }\n",
       "\n",
       "    .dataframe thead th {\n",
       "        text-align: right;\n",
       "    }\n",
       "</style>\n",
       "<table border=\"1\" class=\"dataframe\">\n",
       "  <thead>\n",
       "    <tr style=\"text-align: right;\">\n",
       "      <th></th>\n",
       "      <th>sepal.length</th>\n",
       "      <th>sepal.width</th>\n",
       "      <th>petal.length</th>\n",
       "      <th>petal.width</th>\n",
       "      <th>variety</th>\n",
       "    </tr>\n",
       "  </thead>\n",
       "  <tbody>\n",
       "    <tr>\n",
       "      <th>0</th>\n",
       "      <td>5.1</td>\n",
       "      <td>3.5</td>\n",
       "      <td>1.4</td>\n",
       "      <td>0.2</td>\n",
       "      <td>Setosa</td>\n",
       "    </tr>\n",
       "    <tr>\n",
       "      <th>1</th>\n",
       "      <td>4.9</td>\n",
       "      <td>3.0</td>\n",
       "      <td>1.4</td>\n",
       "      <td>0.2</td>\n",
       "      <td>Setosa</td>\n",
       "    </tr>\n",
       "    <tr>\n",
       "      <th>2</th>\n",
       "      <td>4.7</td>\n",
       "      <td>3.2</td>\n",
       "      <td>1.3</td>\n",
       "      <td>0.2</td>\n",
       "      <td>Setosa</td>\n",
       "    </tr>\n",
       "    <tr>\n",
       "      <th>3</th>\n",
       "      <td>4.6</td>\n",
       "      <td>3.1</td>\n",
       "      <td>1.5</td>\n",
       "      <td>0.2</td>\n",
       "      <td>Setosa</td>\n",
       "    </tr>\n",
       "    <tr>\n",
       "      <th>4</th>\n",
       "      <td>5.0</td>\n",
       "      <td>3.6</td>\n",
       "      <td>1.4</td>\n",
       "      <td>0.2</td>\n",
       "      <td>Setosa</td>\n",
       "    </tr>\n",
       "    <tr>\n",
       "      <th>...</th>\n",
       "      <td>...</td>\n",
       "      <td>...</td>\n",
       "      <td>...</td>\n",
       "      <td>...</td>\n",
       "      <td>...</td>\n",
       "    </tr>\n",
       "    <tr>\n",
       "      <th>145</th>\n",
       "      <td>6.7</td>\n",
       "      <td>3.0</td>\n",
       "      <td>5.2</td>\n",
       "      <td>2.3</td>\n",
       "      <td>Virginica</td>\n",
       "    </tr>\n",
       "    <tr>\n",
       "      <th>146</th>\n",
       "      <td>6.3</td>\n",
       "      <td>2.5</td>\n",
       "      <td>5.0</td>\n",
       "      <td>1.9</td>\n",
       "      <td>Virginica</td>\n",
       "    </tr>\n",
       "    <tr>\n",
       "      <th>147</th>\n",
       "      <td>6.5</td>\n",
       "      <td>3.0</td>\n",
       "      <td>5.2</td>\n",
       "      <td>2.0</td>\n",
       "      <td>Virginica</td>\n",
       "    </tr>\n",
       "    <tr>\n",
       "      <th>148</th>\n",
       "      <td>6.2</td>\n",
       "      <td>3.4</td>\n",
       "      <td>5.4</td>\n",
       "      <td>2.3</td>\n",
       "      <td>Virginica</td>\n",
       "    </tr>\n",
       "    <tr>\n",
       "      <th>149</th>\n",
       "      <td>5.9</td>\n",
       "      <td>3.0</td>\n",
       "      <td>5.1</td>\n",
       "      <td>1.8</td>\n",
       "      <td>Virginica</td>\n",
       "    </tr>\n",
       "  </tbody>\n",
       "</table>\n",
       "<p>150 rows × 5 columns</p>\n",
       "</div>"
      ],
      "text/plain": [
       "     sepal.length  sepal.width  petal.length  petal.width    variety\n",
       "0             5.1          3.5           1.4          0.2     Setosa\n",
       "1             4.9          3.0           1.4          0.2     Setosa\n",
       "2             4.7          3.2           1.3          0.2     Setosa\n",
       "3             4.6          3.1           1.5          0.2     Setosa\n",
       "4             5.0          3.6           1.4          0.2     Setosa\n",
       "..            ...          ...           ...          ...        ...\n",
       "145           6.7          3.0           5.2          2.3  Virginica\n",
       "146           6.3          2.5           5.0          1.9  Virginica\n",
       "147           6.5          3.0           5.2          2.0  Virginica\n",
       "148           6.2          3.4           5.4          2.3  Virginica\n",
       "149           5.9          3.0           5.1          1.8  Virginica\n",
       "\n",
       "[150 rows x 5 columns]"
      ]
     },
     "execution_count": 5,
     "metadata": {},
     "output_type": "execute_result"
    }
   ],
   "source": [
    "my_df"
   ]
  },
  {
   "cell_type": "code",
   "execution_count": 18,
   "id": "8de1ef9e-83ff-45d0-996a-8dfda14e19e2",
   "metadata": {},
   "outputs": [],
   "source": [
    "#change last row \n",
    "my_df['variety'] = my_df['variety'].replace('Setosa' , 0.0) \n",
    "my_df['variety'] = my_df['variety'].replace('Versicolor' , 1.0) \n",
    "my_df['variety'] = my_df['variety'].replace('Virginica' , 2.0) "
   ]
  },
  {
   "cell_type": "code",
   "execution_count": 7,
   "id": "b4695bd9-d8fd-43ee-8373-cfa75cb1321a",
   "metadata": {},
   "outputs": [
    {
     "data": {
      "text/html": [
       "<div>\n",
       "<style scoped>\n",
       "    .dataframe tbody tr th:only-of-type {\n",
       "        vertical-align: middle;\n",
       "    }\n",
       "\n",
       "    .dataframe tbody tr th {\n",
       "        vertical-align: top;\n",
       "    }\n",
       "\n",
       "    .dataframe thead th {\n",
       "        text-align: right;\n",
       "    }\n",
       "</style>\n",
       "<table border=\"1\" class=\"dataframe\">\n",
       "  <thead>\n",
       "    <tr style=\"text-align: right;\">\n",
       "      <th></th>\n",
       "      <th>sepal.length</th>\n",
       "      <th>sepal.width</th>\n",
       "      <th>petal.length</th>\n",
       "      <th>petal.width</th>\n",
       "      <th>variety</th>\n",
       "    </tr>\n",
       "  </thead>\n",
       "  <tbody>\n",
       "    <tr>\n",
       "      <th>0</th>\n",
       "      <td>5.1</td>\n",
       "      <td>3.5</td>\n",
       "      <td>1.4</td>\n",
       "      <td>0.2</td>\n",
       "      <td>0.0</td>\n",
       "    </tr>\n",
       "    <tr>\n",
       "      <th>1</th>\n",
       "      <td>4.9</td>\n",
       "      <td>3.0</td>\n",
       "      <td>1.4</td>\n",
       "      <td>0.2</td>\n",
       "      <td>0.0</td>\n",
       "    </tr>\n",
       "    <tr>\n",
       "      <th>2</th>\n",
       "      <td>4.7</td>\n",
       "      <td>3.2</td>\n",
       "      <td>1.3</td>\n",
       "      <td>0.2</td>\n",
       "      <td>0.0</td>\n",
       "    </tr>\n",
       "    <tr>\n",
       "      <th>3</th>\n",
       "      <td>4.6</td>\n",
       "      <td>3.1</td>\n",
       "      <td>1.5</td>\n",
       "      <td>0.2</td>\n",
       "      <td>0.0</td>\n",
       "    </tr>\n",
       "    <tr>\n",
       "      <th>4</th>\n",
       "      <td>5.0</td>\n",
       "      <td>3.6</td>\n",
       "      <td>1.4</td>\n",
       "      <td>0.2</td>\n",
       "      <td>0.0</td>\n",
       "    </tr>\n",
       "    <tr>\n",
       "      <th>...</th>\n",
       "      <td>...</td>\n",
       "      <td>...</td>\n",
       "      <td>...</td>\n",
       "      <td>...</td>\n",
       "      <td>...</td>\n",
       "    </tr>\n",
       "    <tr>\n",
       "      <th>145</th>\n",
       "      <td>6.7</td>\n",
       "      <td>3.0</td>\n",
       "      <td>5.2</td>\n",
       "      <td>2.3</td>\n",
       "      <td>2.0</td>\n",
       "    </tr>\n",
       "    <tr>\n",
       "      <th>146</th>\n",
       "      <td>6.3</td>\n",
       "      <td>2.5</td>\n",
       "      <td>5.0</td>\n",
       "      <td>1.9</td>\n",
       "      <td>2.0</td>\n",
       "    </tr>\n",
       "    <tr>\n",
       "      <th>147</th>\n",
       "      <td>6.5</td>\n",
       "      <td>3.0</td>\n",
       "      <td>5.2</td>\n",
       "      <td>2.0</td>\n",
       "      <td>2.0</td>\n",
       "    </tr>\n",
       "    <tr>\n",
       "      <th>148</th>\n",
       "      <td>6.2</td>\n",
       "      <td>3.4</td>\n",
       "      <td>5.4</td>\n",
       "      <td>2.3</td>\n",
       "      <td>2.0</td>\n",
       "    </tr>\n",
       "    <tr>\n",
       "      <th>149</th>\n",
       "      <td>5.9</td>\n",
       "      <td>3.0</td>\n",
       "      <td>5.1</td>\n",
       "      <td>1.8</td>\n",
       "      <td>2.0</td>\n",
       "    </tr>\n",
       "  </tbody>\n",
       "</table>\n",
       "<p>150 rows × 5 columns</p>\n",
       "</div>"
      ],
      "text/plain": [
       "     sepal.length  sepal.width  petal.length  petal.width  variety\n",
       "0             5.1          3.5           1.4          0.2      0.0\n",
       "1             4.9          3.0           1.4          0.2      0.0\n",
       "2             4.7          3.2           1.3          0.2      0.0\n",
       "3             4.6          3.1           1.5          0.2      0.0\n",
       "4             5.0          3.6           1.4          0.2      0.0\n",
       "..            ...          ...           ...          ...      ...\n",
       "145           6.7          3.0           5.2          2.3      2.0\n",
       "146           6.3          2.5           5.0          1.9      2.0\n",
       "147           6.5          3.0           5.2          2.0      2.0\n",
       "148           6.2          3.4           5.4          2.3      2.0\n",
       "149           5.9          3.0           5.1          1.8      2.0\n",
       "\n",
       "[150 rows x 5 columns]"
      ]
     },
     "execution_count": 7,
     "metadata": {},
     "output_type": "execute_result"
    }
   ],
   "source": [
    "my_df"
   ]
  },
  {
   "cell_type": "code",
   "execution_count": 8,
   "id": "347c8fda-4fe3-4785-b090-046d00afb58e",
   "metadata": {},
   "outputs": [],
   "source": [
    "#Train test  split set X , y \n",
    "x = my_df.drop(\"variety\" , axis=1) \n",
    "y = my_df['variety'] "
   ]
  },
  {
   "cell_type": "code",
   "execution_count": 9,
   "id": "5a262254-4671-4139-96e6-e1c1ba00d31c",
   "metadata": {},
   "outputs": [],
   "source": [
    "#conveert it to numpyt arrys \n",
    "x= x.values\n",
    "y= y.values\n",
    "\n"
   ]
  },
  {
   "cell_type": "code",
   "execution_count": 10,
   "id": "7c42a621-257d-42d6-aad7-76f649e70054",
   "metadata": {},
   "outputs": [],
   "source": [
    "from sklearn.model_selection import train_test_split "
   ]
  },
  {
   "cell_type": "code",
   "execution_count": 11,
   "id": "09fe09a7-8659-4ee8-aac7-fb2120a1a530",
   "metadata": {},
   "outputs": [],
   "source": [
    "#train test split \n",
    "X_train , X_test , Y_train , Y_test = train_test_split(x ,y , test_size=0.2 , random_state=41 ) "
   ]
  },
  {
   "cell_type": "code",
   "execution_count": 12,
   "id": "08488eb4-e780-4f4c-91fe-dc2d5e3fe2a8",
   "metadata": {},
   "outputs": [],
   "source": [
    "#converting x features  to float tensors \n",
    "x_train = torch.FloatTensor(X_train) \n",
    "x_test = torch.FloatTensor(X_test) "
   ]
  },
  {
   "cell_type": "code",
   "execution_count": 13,
   "id": "3d00960b-f422-45ea-8c83-6ce7c1a71c3f",
   "metadata": {},
   "outputs": [],
   "source": [
    "#convrting y fetures to float tensors \n",
    "y_train = torch.LongTensor(Y_train) \n",
    "y_test = torch.LongTensor(Y_test)"
   ]
  },
  {
   "cell_type": "code",
   "execution_count": 14,
   "id": "65b06e1a-28c8-490c-aab7-200468f6589b",
   "metadata": {},
   "outputs": [],
   "source": [
    "#CorssEntropyLoss  is a  type of cost functiion that measuers the cost/error deiffrence between actual data and \n",
    "#actual data  How far pridiction is from  actual data \n",
    "criterion = nn.CrossEntropyLoss()\n",
    "#choose adam optimizer , lr = learning rate ( if error dosen't go down after bunch of itration , decreas the learing rat rate \n",
    "optimizer = torch.optim.Adam(model.parameters() , lr=0.01) "
   ]
  },
  {
   "cell_type": "code",
   "execution_count": 15,
   "id": "e7d76e8b-98fb-4f28-abc8-d1627e77ac17",
   "metadata": {},
   "outputs": [
    {
     "data": {
      "text/plain": [
       "<bound method Module.parameters of Model(\n",
       "  (fc1): Linear(in_features=4, out_features=8, bias=True)\n",
       "  (fc2): Linear(in_features=8, out_features=9, bias=True)\n",
       "  (out): Linear(in_features=9, out_features=3, bias=True)\n",
       ")>"
      ]
     },
     "execution_count": 15,
     "metadata": {},
     "output_type": "execute_result"
    }
   ],
   "source": [
    "model.parameters"
   ]
  },
  {
   "cell_type": "code",
   "execution_count": 17,
   "id": "80a394bf-f4ee-40c6-842e-287869733e13",
   "metadata": {},
   "outputs": [
    {
     "name": "stdout",
     "output_type": "stream",
     "text": [
      "Epoch:0 and loss :1.125203251838684 \n",
      "Epoch:10 and loss :1.0097211599349976 \n",
      "Epoch:20 and loss :0.8162347078323364 \n",
      "Epoch:30 and loss :0.585993230342865 \n",
      "Epoch:40 and loss :0.4003389775753021 \n",
      "Epoch:50 and loss :0.26794716715812683 \n",
      "Epoch:60 and loss :0.1796349734067917 \n",
      "Epoch:70 and loss :0.12165624648332596 \n",
      "Epoch:80 and loss :0.0860651433467865 \n",
      "Epoch:90 and loss :0.06522615253925323 \n"
     ]
    }
   ],
   "source": [
    "#modle traing \n",
    "epochs = 100  \n",
    "losses = [] \n",
    "for i  in range(epochs) : \n",
    "    #forward propogation  and get a preidiction \n",
    "    y_pridict = model.forward(x_train )  # get  pridicted results \n",
    "\n",
    "    # measure the loss / error ( cost function ) \n",
    "    loss = criterion( y_pridict , y_train) \n",
    "    # to keep track our loss  \n",
    "    # and converting pytorch tensor to numpy array \n",
    "    losses.append(loss.detach().numpy() ) \n",
    "\n",
    "    if i %10 ==0 : \n",
    "        print(f'Epoch:{i} and loss :{loss} ' )\n",
    "\n",
    "    #back propogation \n",
    "    optimizer.zero_grad()\n",
    "    loss.backward() \n",
    "    optimizer.step() \n",
    "    "
   ]
  },
  {
   "cell_type": "code",
   "execution_count": 24,
   "id": "efdd10cd-f804-476b-9edf-9c6b3c583d7a",
   "metadata": {},
   "outputs": [
    {
     "data": {
      "text/plain": [
       "Text(0.5, 0, 'Epcho')"
      ]
     },
     "execution_count": 24,
     "metadata": {},
     "output_type": "execute_result"
    },
    {
     "data": {
      "image/png": "[encoded data removed]",
      "text/plain": [
       "<Figure size 640x480 with 1 Axes>"
      ]
     },
     "metadata": {},
     "output_type": "display_data"
    }
   ],
   "source": [
    "#grpah of cost / loss \n",
    "plt.plot(range(epochs) , losses ) \n",
    "plt.ylabel(\"loss/cost \" ) \n",
    "plt.xlabel(\"Epcho\" ) "
   ]
  },
  {
   "cell_type": "code",
   "execution_count": 25,
   "id": "fce8228c-2650-416e-8ab0-9e79151ddd28",
   "metadata": {},
   "outputs": [],
   "source": [
    "#evaluate Modle on test data set ( validate  modle on test set ) \n",
    "with torch .no_grad() : #basically trun off back propgation \n",
    "    y_eval = model.forward(x_test) \n",
    "    loss = criterion(y_eval , y_test)  # find loss on error data "
   ]
  },
  {
   "cell_type": "code",
   "execution_count": 26,
   "id": "aa42ff01-49d6-4782-aab4-1b9a289c48af",
   "metadata": {},
   "outputs": [
    {
     "data": {
      "text/plain": [
       "tensor(0.1315)"
      ]
     },
     "execution_count": 26,
     "metadata": {},
     "output_type": "execute_result"
    }
   ],
   "source": [
    "loss"
   ]
  },
  {
   "cell_type": "code",
   "execution_count": 31,
   "id": "fb45bc4c-b32a-4348-b607-b58d86e36d65",
   "metadata": {},
   "outputs": [
    {
     "name": "stdout",
     "output_type": "stream",
     "text": [
      "1 ) tensor([-5.8771,  4.4629,  6.5155]) \t 2\n",
      "2 ) tensor([-7.5451,  4.1668,  9.7293]) \t 2\n",
      "3 ) tensor([-8.4517,  5.1275, 10.2015]) \t 2\n",
      "4 ) tensor([-4.3411,  5.6280,  2.5636]) \t 1\n",
      "5 ) tensor([-7.1838,  4.8757,  8.3023]) \t 2\n",
      "6 ) tensor([-3.3940,  5.3421,  1.2802]) \t 1\n",
      "7 ) tensor([-5.9240,  4.9826,  6.0025]) \t 2\n",
      "8 ) tensor([-4.2895,  5.7016,  2.3920]) \t 1\n",
      "9 ) tensor([-6.5369,  4.9261,  7.1291]) \t 2\n",
      "10 ) tensor([-8.0526,  4.4129, 10.3325]) \t 2\n",
      "11 ) tensor([-5.6774,  4.9505,  5.6248]) \t 2\n",
      "12 ) tensor([ 4.5748, -2.2579, -2.8925]) \t 0\n",
      "13 ) tensor([ 4.2646, -2.0055, -2.7342]) \t 0\n",
      "14 ) tensor([-2.1081,  4.0482,  0.5803]) \t 1\n",
      "15 ) tensor([ 3.4608, -1.2147, -2.3488]) \t 0\n",
      "16 ) tensor([-5.4739,  5.1174,  5.0966]) \t 1\n",
      "17 ) tensor([ 4.0637, -1.8045, -2.6504]) \t 0\n",
      "18 ) tensor([-5.8090,  4.6057,  6.2494]) \t 2\n",
      "19 ) tensor([ 4.9250, -2.5763, -3.0545]) \t 0\n",
      "20 ) tensor([ 3.4559, -1.2559, -2.3637]) \t 0\n",
      "21 ) tensor([-2.6161,  4.5584,  0.8575]) \t 1\n",
      "22 ) tensor([-7.7427,  4.7379,  9.4233]) \t 2\n",
      "23 ) tensor([ 3.5777, -1.3269, -2.4109]) \t 0\n",
      "24 ) tensor([ 4.5445, -2.2478, -2.8698]) \t 0\n",
      "25 ) tensor([-2.6548,  4.6138,  0.8825]) \t 1\n",
      "26 ) tensor([-3.2832,  5.2189,  1.2163]) \t 1\n",
      "27 ) tensor([-4.6527,  5.7790,  2.9302]) \t 1\n",
      "28 ) tensor([-2.9436,  4.8858,  1.0381]) \t 1\n",
      "29 ) tensor([ 4.5932, -2.2788, -2.8989]) \t 0\n",
      "30 ) tensor([-4.5797,  5.4566,  3.1690]) \t 1\n",
      "we got 28 correct\n"
     ]
    }
   ],
   "source": [
    "correct = 0 \n",
    "with torch.no_grad(): \n",
    "    for i , data in enumerate(x_test) : \n",
    "        y_val = model.forward(data) \n",
    "    #print what type of flower netwerk it is \n",
    "        print(f'{i+1} ) {str(y_val)} \\t {y_val.argmax().item()}') \n",
    "\n",
    "    #print how many are correct \n",
    "        if y_val.argmax().item() ==y_test[i] : \n",
    "            correct +=1 \n",
    "print(f'we got {correct} correct' ) "
   ]
  },
  {
   "cell_type": "code",
   "execution_count": 32,
   "id": "264d8558-dc18-4243-b85f-8f8a6e7c7e34",
   "metadata": {},
   "outputs": [
    {
     "name": "stdout",
     "output_type": "stream",
     "text": [
      "tensor([ 4.5445, -2.2478, -2.8698])\n"
     ]
    }
   ],
   "source": [
    "new_iris = torch.tensor([4.7, 3.2,1.3,0.20]) \n",
    "\n",
    "with torch.no_grad() : \n",
    "    print(model(new_iris) ) "
   ]
  },
  {
   "cell_type": "code",
   "execution_count": 35,
   "id": "4fdd8f01-ffa2-4e5f-b5b4-98fce92f2d03",
   "metadata": {},
   "outputs": [],
   "source": [
    "## save our modle \n",
    "torch.save(model.state_dict() , \"my_iris_pridiction_Model.pt\" ) "
   ]
  },
  {
   "cell_type": "code",
   "execution_count": 37,
   "id": "63d55484-8a30-4c29-b63b-160ec63434f4",
   "metadata": {},
   "outputs": [
    {
     "data": {
      "text/plain": [
       "<All keys matched successfully>"
      ]
     },
     "execution_count": 37,
     "metadata": {},
     "output_type": "execute_result"
    }
   ],
   "source": [
    "## load saved modle \n",
    "new_model = Model() \n",
    "new_model.load_state_dict(torch.load( 'my_iris_pridiction_Model.pt')) "
   ]
  },
  {
   "cell_type": "code",
   "execution_count": 38,
   "id": "29e3af43-8797-4b3e-90e2-1b52ee3fb39a",
   "metadata": {},
   "outputs": [
    {
     "data": {
      "text/plain": [
       "Model(\n",
       "  (fc1): Linear(in_features=4, out_features=8, bias=True)\n",
       "  (fc2): Linear(in_features=8, out_features=9, bias=True)\n",
       "  (out): Linear(in_features=9, out_features=3, bias=True)\n",
       ")"
      ]
     },
     "execution_count": 38,
     "metadata": {},
     "output_type": "execute_result"
    }
   ],
   "source": [
    "## make sure it loaded corrctly \n",
    "new_model.eval() "
   ]
  },
  {
   "cell_type": "code",
   "execution_count": null,
   "id": "487b863d-0dd5-4e4f-96b9-ca29cf2ece60",
   "metadata": {},
   "outputs": [],
   "source": []
  }
 ],
 "metadata": {
  "kernelspec": {
   "display_name": "Python 3 (ipykernel)",
   "language": "python",
   "name": "python3"
  },
  "language_info": {
   "codemirror_mode": {
    "name": "ipython",
    "version": 3
   },
   "file_extension": ".py",
   "mimetype": "text/x-python",
   "name": "python",
   "nbconvert_exporter": "python",
   "pygments_lexer": "ipython3",
   "version": "3.11.5"
  }
 },
 "nbformat": 4,
 "nbformat_minor": 5
}
