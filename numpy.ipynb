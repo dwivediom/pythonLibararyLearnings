{
 "cells": [
  {
   "cell_type": "code",
   "execution_count": 2,
   "id": "cf5d39f2-c282-4759-944b-0e73aafc9f49",
   "metadata": {},
   "outputs": [],
   "source": [
    "import numpy as np "
   ]
  },
  {
   "cell_type": "code",
   "execution_count": 7,
   "id": "2627802b-990a-41f8-bd37-be350b0ee36c",
   "metadata": {},
   "outputs": [
    {
     "name": "stdout",
     "output_type": "stream",
     "text": [
      "11 ns ± 0.612 ns per loop (mean ± std. dev. of 7 runs, 100,000,000 loops each)\n"
     ]
    }
   ],
   "source": [
    "%timeit a = 2"
   ]
  },
  {
   "cell_type": "code",
   "execution_count": 12,
   "id": "29eb3fed-0a22-4d90-a67a-74dcf10150d4",
   "metadata": {},
   "outputs": [
    {
     "name": "stdout",
     "output_type": "stream",
     "text": [
      "[[1 2 3]\n",
      " [1 2 3]]\n",
      "2\n"
     ]
    }
   ],
   "source": [
    "arr2D = np.array([ [ 1 ,2 ,3 ] ,[1,2,3] ])\n",
    "print (arr2D ) \n",
    "print ( arr2D.ndim) \n"
   ]
  },
  {
   "cell_type": "code",
   "execution_count": 13,
   "id": "f7dfe167-a3a2-40a3-89e0-908c4733ae29",
   "metadata": {},
   "outputs": [
    {
     "name": "stdout",
     "output_type": "stream",
     "text": [
      "[[[1 2 3]\n",
      "  [1 4 5]]\n",
      "\n",
      " [[1 3 5]\n",
      "  [3 6 5]]]\n",
      "3\n"
     ]
    }
   ],
   "source": [
    "arr3d = np.array([[[1,2,3] , [1,4,5] ] ,[ [1,3,5] , [3,6,5]]])\n",
    "print(arr3d) \n",
    "print(arr3d.ndim) "
   ]
  },
  {
   "cell_type": "markdown",
   "id": "7438643b-9c75-4319-8dee-be37055a30d3",
   "metadata": {},
   "source": [
    "crateing 10 or n dimension of array using ndmin = 10 , ndmin=dimension of array \n"
   ]
  },
  {
   "cell_type": "code",
   "execution_count": 14,
   "id": "e27faf20-70ac-4d00-9b92-af6740ea4f15",
   "metadata": {},
   "outputs": [
    {
     "name": "stdout",
     "output_type": "stream",
     "text": [
      "[[[[[[[[[[1 3 4 5]]]]]]]]]] 10\n"
     ]
    }
   ],
   "source": [
    "arrN = np.array([1,3,4,5] , ndmin=10 ) \n",
    "print(arrN , arrN.ndim) \n"
   ]
  },
  {
   "cell_type": "raw",
   "id": "b894a7a6-c867-4f34-94e6-a89c7ebf41a6",
   "metadata": {},
   "source": [
    "array filld with only zeor  "
   ]
  },
  {
   "cell_type": "code",
   "execution_count": 20,
   "id": "fc367202-8e5d-48db-ab87-633e5b6f1edc",
   "metadata": {},
   "outputs": [
    {
     "name": "stdout",
     "output_type": "stream",
     "text": [
      "[0. 0. 0. 0.] \n",
      "  [[0. 0. 0.]\n",
      " [0. 0. 0.]]\n"
     ]
    }
   ],
   "source": [
    "arrZero = np.zeros(4) \n",
    "arr2dZerro = np.zeros((2,3))  \n",
    "print( arrZero , \"\\n \", arr2dZerro ) \n"
   ]
  },
  {
   "cell_type": "markdown",
   "id": "c478e738-3c72-4191-ab6c-620d9d26e5ce",
   "metadata": {},
   "source": [
    "***ones*** \n"
   ]
  },
  {
   "cell_type": "code",
   "execution_count": 22,
   "id": "7cc949a4-4dbb-4a8f-b8f8-f82479452f42",
   "metadata": {},
   "outputs": [
    {
     "name": "stdout",
     "output_type": "stream",
     "text": [
      "[[1. 1. 1. 1.]\n",
      " [1. 1. 1. 1.]]\n"
     ]
    }
   ],
   "source": [
    "arr_one = np.ones((2,4) )\n",
    "print(arrone) "
   ]
  },
  {
   "cell_type": "code",
   "execution_count": 4,
   "id": "72449f60-2800-4b79-bc1e-7e31836cba63",
   "metadata": {},
   "outputs": [
    {
     "name": "stdout",
     "output_type": "stream",
     "text": [
      "[0. 0. 0. 0.]\n"
     ]
    }
   ],
   "source": [
    "#empty array \n",
    "arEm = np.empty(4 )\n",
    "print(arEm) \n"
   ]
  },
  {
   "cell_type": "markdown",
   "id": "aa3e598f-e836-4135-8681-5687c1b21f87",
   "metadata": {},
   "source": [
    "***Range***"
   ]
  },
  {
   "cell_type": "code",
   "execution_count": 103,
   "id": "0f3fd451-d58d-42ef-b69d-b539ba9051d6",
   "metadata": {},
   "outputs": [
    {
     "name": "stdout",
     "output_type": "stream",
     "text": [
      "[0 1 2 3]\n",
      "[0 1 2 3 4 5 6 7 8 9]\n"
     ]
    }
   ],
   "source": [
    "ar_rn  = np.arange(4) \n",
    "array = np.arange(start=0, stop=10, step=1)\n",
    "\n",
    "print(ar_rn) \n",
    "print(array) "
   ]
  },
  {
   "cell_type": "markdown",
   "id": "3b97bdd2-ad2c-430d-8c0d-4d08fa76ca6a",
   "metadata": {},
   "source": [
    "digonal \n"
   ]
  },
  {
   "cell_type": "code",
   "execution_count": 28,
   "id": "9d6cad5a-5b2d-402b-ac4d-d765bf77395e",
   "metadata": {},
   "outputs": [
    {
     "name": "stdout",
     "output_type": "stream",
     "text": [
      "[[1. 0. 0. 0.]\n",
      " [0. 1. 0. 0.]\n",
      " [0. 0. 1. 0.]]\n",
      "[[1. 0. 0.]\n",
      " [0. 1. 0.]\n",
      " [0. 0. 1.]]\n"
     ]
    }
   ],
   "source": [
    "ar_dia = np.eye(3,4) \n",
    "print(ar_dia) \n",
    "ar1 = np.eye(3) \n",
    "print(ar1) "
   ]
  },
  {
   "cell_type": "markdown",
   "id": "1b9cde74-c42e-4157-9d3d-99488fb0c7bf",
   "metadata": {},
   "source": [
    "linspace(starting , ending , step )  with gap \n"
   ]
  },
  {
   "cell_type": "code",
   "execution_count": 31,
   "id": "33e1bc8a-909c-40e9-ab02-4f6276450370",
   "metadata": {},
   "outputs": [
    {
     "name": "stdout",
     "output_type": "stream",
     "text": [
      "[ 0.  5. 10. 15. 20.]\n"
     ]
    }
   ],
   "source": [
    "ar_lin = np.linspace(0 , 20 , 5 ) \n",
    "print(ar_lin) \n"
   ]
  },
  {
   "cell_type": "markdown",
   "id": "1b43f77c-feaf-4824-b8ec-cbdf32e018a7",
   "metadata": {},
   "source": [
    "## Random"
   ]
  },
  {
   "cell_type": "markdown",
   "id": "be244a45-e272-4788-9a45-d6d8101e9ad3",
   "metadata": {},
   "source": [
    "##RAND()  : it only give  matrix of postive  random number "
   ]
  },
  {
   "cell_type": "code",
   "execution_count": 34,
   "id": "aba4154f-0ac1-4f04-9f38-2828b14e578d",
   "metadata": {},
   "outputs": [
    {
     "name": "stdout",
     "output_type": "stream",
     "text": [
      "[0.90609698 0.90918822 0.74044657 0.25518762]\n",
      "[[0.78095759 0.7842857  0.01206668 0.70627457 0.30088625]\n",
      " [0.96522353 0.0995389  0.63205548 0.66621366 0.60338002]]\n"
     ]
    }
   ],
   "source": [
    "randomArray = np.random.rand(4) \n",
    "print(randomArray) \n",
    "random2dArray = np.random.rand(2,5) \n",
    "print(random2dArray) \n"
   ]
  },
  {
   "cell_type": "markdown",
   "id": "96fd6b35-f955-4c21-8750-3f03882c8b1c",
   "metadata": {},
   "source": [
    "**randn()** it give matrix of negative and postive number "
   ]
  },
  {
   "cell_type": "code",
   "execution_count": 37,
   "id": "1a72e7d0-2b3b-42ed-b6f4-6b1bc70c69c5",
   "metadata": {},
   "outputs": [
    {
     "name": "stdout",
     "output_type": "stream",
     "text": [
      "[[-0.26265809  0.46116835  1.09524007]\n",
      " [-1.11701331 -0.96765592 -0.23439531]]\n"
     ]
    }
   ],
   "source": [
    "print( np.random.randn(2,3) )"
   ]
  },
  {
   "cell_type": "markdown",
   "id": "6aa7f805-7c57-4972-9730-45a5d6457dfc",
   "metadata": {},
   "source": [
    "## ranf()\n",
    "it give matrix of number betweeb 0 to 1  and 1 is not  included  TAKES ONLY ONE ARGOUMENT "
   ]
  },
  {
   "cell_type": "code",
   "execution_count": 5,
   "id": "696796de-1152-449a-813d-9eaf79124821",
   "metadata": {},
   "outputs": [
    {
     "name": "stdout",
     "output_type": "stream",
     "text": [
      "[0.99863115 0.0433925 ]\n"
     ]
    }
   ],
   "source": [
    "print( np.random.ranf(2) )"
   ]
  },
  {
   "cell_type": "markdown",
   "id": "807365c9-b090-42fc-9858-2e28b0d280e6",
   "metadata": {},
   "source": [
    "## random.randint( start  , stop , totalNumbers  ) \n",
    "it genratete   number between two intigers \n",
    "\n"
   ]
  },
  {
   "cell_type": "code",
   "execution_count": 44,
   "id": "04f05fc7-f4d0-4bec-a3f4-54b23923f45e",
   "metadata": {},
   "outputs": [
    {
     "name": "stdout",
     "output_type": "stream",
     "text": [
      "5\n",
      "[2 6 5 8 3]\n"
     ]
    }
   ],
   "source": [
    "print(np.random.randint(2,8) )\n",
    "print(np.random.randint(2,9,5))"
   ]
  },
  {
   "cell_type": "markdown",
   "id": "ea617b43-05a2-4858-b270-07cc9c49831b",
   "metadata": {},
   "source": [
    "### Data types \n",
    "\n",
    "bool_\n",
    "\n",
    "Boolean\n",
    "\n",
    "int_\n",
    "\n",
    "Default integer type (int64 or int32)\n",
    "\n",
    "intc\n",
    "\n",
    "Identical to the integer in C (int32 or int64)\n",
    "\n",
    "intp\n",
    "\n",
    "Integer value used for indexing\n",
    "\n",
    "int8\n",
    "\n",
    "8-bit integer value (-128 to 127)\n",
    "\n",
    "int16\n",
    "\n",
    "16-bit integer value (-32768 to 32767)\n",
    "\n",
    "int32\n",
    "\n",
    "32-bit integer value (-2147483648 to 2147483647)\n",
    "\n",
    "int64\n",
    "\n",
    "64-bit integer value (-9223372036854775808 to 9223372036854775807)\n",
    "\n",
    "uint8\n",
    "\n",
    "Unsigned 8-bit integer value (0 to 255)\n",
    "\n",
    "uint16\n",
    "\n",
    "Unsigned 16-bit integer value (0 to 65535)\n",
    "\n",
    "uint32\n",
    "\n",
    "Unsigned 32-bit integer value (0 to 4294967295)\n",
    "\n",
    "uint64\n",
    "\n",
    "Unsigned 64-bit integer value (0 to 18446744073709551615)\n",
    "\n",
    "float_\n",
    "\n",
    "Float values\n",
    "\n",
    "float16\n",
    "\n",
    "Half precision float values\n",
    "\n",
    "float32\n",
    "\n",
    "Single-precision float values\n",
    "\n",
    "float64\n",
    "\n",
    "Double-precision float values\n",
    "\n",
    "complex_\n",
    "\n",
    "Complex values\n",
    "\n",
    "complex64\n",
    "\n",
    "Represent two 32-bit float complex values (real and imaginary)\n",
    "\n",
    "complex128\n",
    "\n",
    "Represent two 64-bit float complex values (real and imaginary)\n",
    "\n",
    "### U1 : string\n",
    "### U11 : string and numbers \n"
   ]
  },
  {
   "cell_type": "code",
   "execution_count": 45,
   "id": "6c793268-fd04-429b-a454-2318183d1535",
   "metadata": {},
   "outputs": [
    {
     "name": "stdout",
     "output_type": "stream",
     "text": [
      "data type : int64\n"
     ]
    }
   ],
   "source": [
    "var = np.array([1,3,4,5]) \n",
    "print('data type :' , var.dtype) "
   ]
  },
  {
   "cell_type": "markdown",
   "id": "1ca1ee45-6520-4f5d-878f-c2660661910e",
   "metadata": {},
   "source": [
    "* convert to another data type  "
   ]
  },
  {
   "cell_type": "code",
   "execution_count": 53,
   "id": "481b12c6-de92-41d8-9051-f35e8932c605",
   "metadata": {},
   "outputs": [
    {
     "name": "stdout",
     "output_type": "stream",
     "text": [
      "data type:  uint64\n",
      "astype  float64\n"
     ]
    }
   ],
   "source": [
    "var2 = np.array([1,3,4,5] , dtype = np.uint64) \n",
    "\n",
    "print('data type: '  , var2.dtype) \n",
    "var3= np.array([1,3,4,5] , dtype = 'f') \n",
    "var4 = np.float32(var2 ) \n",
    "\n",
    "\n",
    "#astype function \n",
    "new_2 = var3.astype(float) \n",
    "print(\"astype \" , new_2.dtype) \n",
    "\n",
    "\n"
   ]
  },
  {
   "cell_type": "markdown",
   "id": "7ae3d59d-f4c0-4e94-9f7f-87d53f307f4f",
   "metadata": {},
   "source": [
    "## Arithmatic oppration in numpyt "
   ]
  },
  {
   "cell_type": "code",
   "execution_count": 55,
   "id": "b595034b-d591-4d4d-a15e-c43e584a9d98",
   "metadata": {},
   "outputs": [
    {
     "name": "stdout",
     "output_type": "stream",
     "text": [
      "[3 5 7]\n"
     ]
    }
   ],
   "source": [
    " var = np.array([1,3,5]) \n",
    " add = var  + 2 \n",
    "print(add ) "
   ]
  },
  {
   "cell_type": "code",
   "execution_count": 56,
   "id": "73b70b3f-9a83-432e-8c58-963bfdbce6ff",
   "metadata": {},
   "outputs": [
    {
     "name": "stdout",
     "output_type": "stream",
     "text": [
      "[ 2 12 25]\n"
     ]
    }
   ],
   "source": [
    "var2 = np.array([2,4,5]) \n",
    "multi = var* var2 \n",
    "print(multi) "
   ]
  },
  {
   "cell_type": "markdown",
   "id": "2bc26d09-650c-4619-8c72-c9fd0e80bd9e",
   "metadata": {},
   "source": [
    "np.add(a,b ) \n",
    "np.subtract(a,b) \n",
    "mp.mod( a,b ) , for modulus \n",
    "np.power( a, b  ) a^b  a to the  power b \n",
    "np.reciprocal(a)  1/a \n"
   ]
  },
  {
   "cell_type": "markdown",
   "id": "2fff21d1-55e6-4faf-881c-f1aa97687003",
   "metadata": {},
   "source": [
    "**min( np.array())** : gives minimun number in the array\n",
    "\n",
    "**max()** : givs maximum number in the arry\n",
    "\n",
    "***argmax()*** gives postion or index of maximum number  of array \n",
    "\n",
    "**argmin()** gives postion or index of minimum number of array \n",
    "\n",
    "axis = 0  col -\n",
    "col = 1 row |\n"
   ]
  },
  {
   "cell_type": "code",
   "execution_count": 63,
   "id": "77fb1fb5-4883-48ec-8461-9976591d4b1e",
   "metadata": {},
   "outputs": [
    {
     "name": "stdout",
     "output_type": "stream",
     "text": [
      "postion of minimum  [0 0]\n",
      "valu of maximum  [3 3]\n"
     ]
    }
   ],
   "source": [
    "arr2D_1= np.array([ [ 1 ,2 ,3 ] ,[1,2,3] ])\n",
    "print( \"postion of minimum \",np.argmin(arr2D_1 , axis=1))\n",
    "print(\" retuns row valu of maximum \",np.max(arr2D_1 , axis=1))"
   ]
  },
  {
   "cell_type": "markdown",
   "id": "0a31f95e-f281-4c0d-a369-f85ce67a97d5",
   "metadata": {},
   "source": [
    "***np.sqrt()*** square root \n",
    "\n",
    "***np.sign()*** \n",
    "\n",
    "***np.cos()*** \n",
    "\n"
   ]
  },
  {
   "cell_type": "markdown",
   "id": "ea86b1d3-01cb-4aed-99fd-148d56d80cd1",
   "metadata": {},
   "source": [
    "### cumsum() \n",
    ": np.cumsum([1 ,2, 3 ] ) = [ 1 , 1+2 , 1+2+3 ] "
   ]
  },
  {
   "cell_type": "markdown",
   "id": "719b0a84-27f1-4c86-a222-ac66c0671c00",
   "metadata": {},
   "source": [
    "## Shaping and reshaping in numpy \n",
    "### shape()"
   ]
  },
  {
   "cell_type": "code",
   "execution_count": 74,
   "id": "b32224b9-d6d1-4f03-aaca-2fc085522bd7",
   "metadata": {},
   "outputs": [
    {
     "name": "stdout",
     "output_type": "stream",
     "text": [
      "(1, 1, 4) \n",
      " (3, 3)\n"
     ]
    }
   ],
   "source": [
    "arr_3d_1 = np.array([1,3,4,2] , ndmin=3 ) \n",
    "arr_3d_2 = np.array([[1,3,4],[1,3,4],[1,3,4]] ) \n",
    "\n",
    "print(np.shape(arr_3d_1) ,'\\n',np.shape(arr_3d_2)) "
   ]
  },
  {
   "cell_type": "markdown",
   "id": "49312191-cfde-4686-8ccc-c093e3a53935",
   "metadata": {},
   "source": [
    "### reshape( no_of_rows , no_of_col ) \n"
   ]
  },
  {
   "cell_type": "code",
   "execution_count": 105,
   "id": "56eae1e5-4441-4d83-9a34-445d10989cfb",
   "metadata": {},
   "outputs": [
    {
     "name": "stdout",
     "output_type": "stream",
     "text": [
      "[[1 3]\n",
      " [4 2]]\n",
      "[[1]\n",
      " [3]\n",
      " [4]\n",
      " [2]]\n"
     ]
    }
   ],
   "source": [
    "print( arr_3d_1.reshape(2,2) ) \n",
    "print(arr_3d_1.reshape(4,1))\n"
   ]
  },
  {
   "cell_type": "code",
   "execution_count": 80,
   "id": "51ce827e-a296-4a29-bde8-a9cea0afc888",
   "metadata": {},
   "outputs": [
    {
     "name": "stdout",
     "output_type": "stream",
     "text": [
      "[[[1 3]\n",
      "  [4 2]\n",
      "  [3 6]]\n",
      "\n",
      " [[4 9]\n",
      "  [6 3]\n",
      "  [6 7]]]\n",
      "[1 3 4 2 3 6 4 9 6 3 6 7]\n"
     ]
    }
   ],
   "source": [
    "#3d reshapeing \n",
    "arr_3d_3= np.array([1,3,4,2,3,6, 4,9,6,3,6,7] ) \n",
    "#np.reshape(on_of_arry in  outer most dimension  , no  of array/row in 2d ,  no of col  ) \n",
    "\n",
    "oneD_3d = arr_3d_3.reshape( 2 , 3 , 2 )\n",
    "\n",
    "print(  oneD_3d) \n",
    "\n",
    "# 3d to 1d \n",
    "\n",
    "oneD = oneD_3d.reshape(-1) \n",
    "print(oneD) \n",
    "\n"
   ]
  },
  {
   "cell_type": "markdown",
   "id": "c0c62da8-8bb1-43ad-afa5-397a8c84f579",
   "metadata": {},
   "source": [
    "## Brodcasting in numpy \n",
    "\n",
    "if we try to perform arithmatic opraiton in uncompatible array then it will give ***brodcast Error*** \n",
    "\n",
    "example : if [ 1, 2, 3 ] + [1 ,3, 5,6]  we can not add this because the no of col are  more \n",
    "\n",
    "to perform the oprtionj ***the number of  colmun and Rows  should be same or one***"
   ]
  },
  {
   "cell_type": "code",
   "execution_count": 88,
   "id": "e9ae310b-9582-47f0-ab80-9173a2e9cb18",
   "metadata": {},
   "outputs": [
    {
     "name": "stdout",
     "output_type": "stream",
     "text": [
      "12\n",
      "3\n"
     ]
    }
   ],
   "source": [
    "A = np.array([[1, 2, 3],\n",
    "              [4, 5, 6]])\n",
    "\n",
    "# Define a 5x3 matrix\n",
    "B = np.array([[7, 8, 9],\n",
    "              [10, 11, 12],\n",
    "              [13, 14, 15],\n",
    "              [16, 17, 18],\n",
    "              [19, 20, 21]])\n",
    "#add = A+B \n",
    "#print(add ) \n",
    "#getting 12\n",
    "print(B[1,2])\n",
    "\n",
    "C = np.array([[             [1, 2],\n",
    "                             3, 4],\n",
    "                             [5, 6],\n",
    "                             [7, 8]],\n",
    "                           \n",
    "                            [[9, 10],\n",
    "                             [11, 12],\n",
    "                             [13, 14],\n",
    "                             [15, 16]],\n",
    "                           \n",
    "                            [[17, 18],\n",
    "                             [19, 20],\n",
    "                             [21, 22],\n",
    "                             [23, 24]]])\n",
    "\n",
    "#getting 3 form 3d array  \n",
    "print(C[0 ,1,0])"
   ]
  },
  {
   "cell_type": "markdown",
   "id": "2358b667-5920-4d66-a4a1-ce13c7310401",
   "metadata": {},
   "source": [
    "## slicing \n",
    "### arr[ start position : stop position -1: step ] "
   ]
  },
  {
   "cell_type": "code",
   "execution_count": 92,
   "id": "cf0a63bf-f63a-44d2-af8b-45aa67e4bbd7",
   "metadata": {},
   "outputs": [
    {
     "name": "stdout",
     "output_type": "stream",
     "text": [
      "[3 5 7]\n",
      "index 2 to end  [ 3  4  5  6  7  8  9 10 11 12 13 14 15 16]\n",
      " till index  5  [1 2 3 4 5 6]\n"
     ]
    }
   ],
   "source": [
    "arr_2= np.array([1,2,3,4,5,6,7,8,9,10,11,12,13,14,15,16] ) \n",
    "#                0 1 2 3 4 5 6 7 8 9\n",
    "print(arr_2[2 : 8 :2 ] )\n",
    "print(\"index 2 to end \" ,  arr_2[2 :] ) \n",
    "print( \" till index  5 \"  , arr_2[ :6] ) "
   ]
  },
  {
   "cell_type": "code",
   "execution_count": 102,
   "id": "bd74ee9e-6b80-49d8-85ea-bb60e226c835",
   "metadata": {},
   "outputs": [
    {
     "name": "stdout",
     "output_type": "stream",
     "text": [
      "[11 12]\n"
     ]
    }
   ],
   "source": [
    "#sclicing in 2d array \n",
    "\n",
    "# getting 11 and 12 you can not  get data from another  row \n",
    "print( B[1,1:])"
   ]
  },
  {
   "cell_type": "markdown",
   "id": "5a8f6bf8-623b-4040-aee4-f2378c0cb240",
   "metadata": {},
   "source": [
    "## itration "
   ]
  },
  {
   "cell_type": "code",
   "execution_count": 109,
   "id": "795ec61b-80df-4421-9cf5-644e06ad49ff",
   "metadata": {},
   "outputs": [
    {
     "name": "stdout",
     "output_type": "stream",
     "text": [
      "[7 8 9]\n",
      "7\n",
      "8\n",
      "9\n",
      "[7 8 9]\n",
      "10\n",
      "11\n",
      "12\n",
      "[7 8 9]\n",
      "13\n",
      "14\n",
      "15\n",
      "[7 8 9]\n",
      "16\n",
      "17\n",
      "18\n",
      "[7 8 9]\n",
      "19\n",
      "20\n",
      "21\n"
     ]
    }
   ],
   "source": [
    "for row in B  : \n",
    "    print(item ) \n",
    "    for col_item in row: \n",
    "        print(col_item)"
   ]
  },
  {
   "cell_type": "markdown",
   "id": "51be9010-6ef7-41c5-943b-4dc9bb9b63e1",
   "metadata": {},
   "source": [
    "### np.nditer(array)"
   ]
  },
  {
   "cell_type": "code",
   "execution_count": 9,
   "id": "4f5929d6-d03f-46ef-b7ee-b60cc681852f",
   "metadata": {},
   "outputs": [
    {
     "name": "stdout",
     "output_type": "stream",
     "text": [
      "Example 1: Basic Iteration\n",
      "1 2 3 4 5 6 \n",
      "\n",
      "Example 2: Iteration with Read-Write Access\n",
      "Modified Array:\n",
      "[[ 2  4  6]\n",
      " [ 8 10 12]] \n",
      "\n",
      "Example 3: Iteration in Reverse Order\n",
      "2 8 4 10 6 12 \n",
      "\n",
      "Example 4: Iteration with Specific Data Type\n",
      "2 4 6 8 10 12 \n",
      "\n"
     ]
    }
   ],
   "source": [
    "arr = np.array([[1, 2, 3],\n",
    "                [4, 5, 6]])\n",
    "\n",
    "# Using np.nditer with different parameters\n",
    "\n",
    "\n",
    "#whatch sperate this \n",
    "# Example 1: Basic iteration\n",
    "print(\"Example 1: Basic Iteration\")\n",
    "for element in np.nditer(arr):\n",
    "    print(element, end=' ')\n",
    "print(\"\\n\")\n",
    "\n",
    "# Example 2: Iteration with read-write access\n",
    "print(\"Example 2: Iteration with Read-Write Access\")\n",
    "for element in np.nditer(arr, op_flags=['readwrite']):\n",
    "    element[...] = element * 2\n",
    "print(\"Modified Array:\")\n",
    "print(arr, \"\\n\")\n",
    "\n",
    "# Example 3: Iteration in reverse order\n",
    "print(\"Example 3: Iteration in Reverse Order\")\n",
    "for element in np.nditer(arr, order='F'):\n",
    "    print(element, end=' ')\n",
    "print(\"\\n\")\n",
    "\n",
    "# Example 4: Iteration with specific data type\n",
    "print(\"Example 4: Iteration with Specific Data Type\")\n",
    "for element in np.nditer(arr, flags=['buffered'], op_dtypes=['int16']  , casting='same_kind') :\n",
    "    print(element, end=' ')\n",
    "print(\"\\n\")\n",
    "\n",
    "# Example 5: Iteration with a different external loop\n",
    "#print(\"Example 5: Iteration with a Different External Loop\")\n",
    "#arr_1d = np.arange(6)\n",
    "#for element in np.nditer(arr, flags=['external_loop'], op_flags=['readonly'], external_loop=arr_1d):\n",
    "#    print(element, end=' ')\n",
    "#print(\"\\n\")"
   ]
  },
  {
   "cell_type": "markdown",
   "id": "ed0e0292-82c3-4233-a71e-06cb52fa5345",
   "metadata": {},
   "source": [
    "n the context of np.nditer in NumPy, the flags parameter allows you to specify additional behaviors during the iteration process. It's a way to customize how the iteration should occur. Let's break down the common flags and their meanings:\n",
    "\n",
    "'c_index':\n",
    "\n",
    "Meaning: It specifies that the iteration should follow C-order (row-major order).\n",
    "In Simple Words: When iterating over a multi-dimensional array, it will go through the elements row by row.\n",
    "'f_index':\n",
    "\n",
    "Meaning: It specifies that the iteration should follow Fortran-order (column-major order).\n",
    "In Simple Words: When iterating over a multi-dimensional array, it will go through the elements column by column.\n",
    "'multi_index':\n",
    "\n",
    "Meaning: It enables the use of a multi-index, meaning you get a tuple of indices for each element during iteration.\n",
    "In Simple Words: Along with the value of the array element, you also get the indices (row, column, etc.) of that element.\n",
    "'external_loop':\n",
    "\n",
    "Meaning: It treats the input arrays as one-dimensional arrays with the last dimension varying the fastest.\n",
    "In Simple Words: It flattens all dimensions except the last one, making the iteration appear as if it's over a 1D array.\n",
    "'reduce_ok':\n",
    "\n",
    "Meaning: It allows the iterator to be used in a reduction operation.\n",
    "In Simple Words: It indicates that the iterator can be used in a reduction operation, such as computing the sum or product of the array elements.\n",
    "\n"
   ]
  },
  {
   "cell_type": "markdown",
   "id": "8b651682-a5e2-4c38-a3a9-aa268292a4a3",
   "metadata": {},
   "source": [
    "### ndenumerate(array )  \n",
    "gives the  index with datat "
   ]
  },
  {
   "cell_type": "code",
   "execution_count": 117,
   "id": "b01a3cc9-56f9-4927-bc93-069bdd1cca05",
   "metadata": {},
   "outputs": [
    {
     "name": "stdout",
     "output_type": "stream",
     "text": [
      "2 (0, 0)\n",
      "4 (0, 1)\n",
      "6 (0, 2)\n",
      "8 (1, 0)\n",
      "10 (1, 1)\n",
      "12 (1, 2)\n"
     ]
    }
   ],
   "source": [
    "#appling in 2d array data , postion , 2  ( 0 , 0 ) \n",
    "\n",
    "for index , data in  np.ndenumerate(arr) : \n",
    "    print (data , index ) "
   ]
  },
  {
   "cell_type": "markdown",
   "id": "d15f9db5-565a-4739-939a-c6d7fc9f9006",
   "metadata": {},
   "source": [
    "### COPY VS VIEW "
   ]
  },
  {
   "cell_type": "markdown",
   "id": "04898efa-ef94-44be-a160-5def8541907b",
   "metadata": {},
   "source": [
    "***array.copy()*** \n",
    "\n",
    "create a new copy  and store the copied data  in new location , the data will not change even if orignal data changed \n",
    "\n",
    "***array.view()*** \n",
    "\n",
    "it just reffer  to similiar location of the orignal data , so when we will change the data the value will also changed "
   ]
  },
  {
   "cell_type": "code",
   "execution_count": 119,
   "id": "6c11874a-6a45-4acd-9614-1a95f748f90a",
   "metadata": {},
   "outputs": [
    {
     "name": "stdout",
     "output_type": "stream",
     "text": [
      "[ 1  2 40  4]\n",
      "[1 2 3 4]\n"
     ]
    }
   ],
   "source": [
    "arr1 = np.array( [1,2,3,4]) \n",
    "copiedData = arr1.copy() \n",
    "arr1[2] = 40 \n",
    "print(arr1) \n",
    "print(copiedData) "
   ]
  },
  {
   "cell_type": "code",
   "execution_count": 120,
   "id": "845adbe3-0394-4771-8d0e-0180e03a1c59",
   "metadata": {},
   "outputs": [
    {
     "name": "stdout",
     "output_type": "stream",
     "text": [
      "[ 1  2 40  4]\n",
      "[ 1  2 40  4]\n"
     ]
    }
   ],
   "source": [
    "arr2 = np.array( [1,2,3,4]) \n",
    "viewData = arr1.view() \n",
    "arr1[2] = 40 \n",
    "print(arr1) \n",
    "print(viewData) "
   ]
  },
  {
   "cell_type": "code",
   "execution_count": 12,
   "id": "76b93230-df86-45ca-91b0-01d6fbd2e3d8",
   "metadata": {},
   "outputs": [
    {
     "name": "stdout",
     "output_type": "stream",
     "text": [
      "2\n",
      "8\n",
      "4\n",
      "10\n",
      "6\n",
      "12\n"
     ]
    }
   ],
   "source": [
    "for i in np.nditer(arr, order='F') :\n",
    " print(i) "
   ]
  },
  {
   "cell_type": "markdown",
   "id": "1a6ec306-959e-40ae-aeb5-103079f01fc4",
   "metadata": {},
   "source": [
    "## join array \n",
    "\n",
    "### np.concatenate( (array1, arr2) , axis=1) "
   ]
  },
  {
   "cell_type": "code",
   "execution_count": 16,
   "id": "566b75c3-2f30-4ff3-9857-678aac33d265",
   "metadata": {},
   "outputs": [
    {
     "name": "stdout",
     "output_type": "stream",
     "text": [
      "[[1 2 3 1 2 3]\n",
      " [4 5 6 4 5 6]]\n"
     ]
    }
   ],
   "source": [
    "arr1 = np.array([[1, 2, 3],\n",
    "                [4, 5, 6]])\n",
    "\n",
    "arr3 = np.array([[1, 2, 3],\n",
    "                [4, 5, 6]])\n",
    "arr4 = np.concatenate((arr1,arr3) , axis=1)\n",
    "print(arr4) "
   ]
  },
  {
   "cell_type": "markdown",
   "id": "05045382-8cb4-42b6-b939-1ea371f30640",
   "metadata": {},
   "source": [
    "## np.stack((arr1 , arr2 ) , axis=0 ) "
   ]
  },
  {
   "cell_type": "markdown",
   "id": "75c3779f-5174-4f9a-940b-ab211a9963f4",
   "metadata": {},
   "source": [
    "### np.hstack((arr1 ,arr2))\n",
    " merging along the row \n",
    "\n",
    "### np.vstack((arr1, arr2)) \n",
    "merging along the colmum \n",
    "\n",
    "### np.dstack((arr1 ,arr2 )) \n",
    "mergin  along to hight\n",
    "means it take 2  2D arrays and create a 3D array \n"
   ]
  },
  {
   "cell_type": "code",
   "execution_count": 19,
   "id": "5b7ed8ed-cf00-4a5f-aa6a-95f4717508c9",
   "metadata": {},
   "outputs": [
    {
     "name": "stdout",
     "output_type": "stream",
     "text": [
      "[[[1 1]\n",
      "  [2 2]\n",
      "  [3 3]]\n",
      "\n",
      " [[4 4]\n",
      "  [5 5]\n",
      "  [6 6]]]\n"
     ]
    }
   ],
   "source": [
    "print(  np.dstack((arr1 ,arr3 )) )"
   ]
  },
  {
   "cell_type": "markdown",
   "id": "7fa062cb-a35e-417a-a672-8a2a8da6f367",
   "metadata": {},
   "source": [
    "## Split "
   ]
  },
  {
   "cell_type": "markdown",
   "id": "ceb4666c-830d-43cd-9227-da92fa622ae4",
   "metadata": {},
   "source": [
    "### np.array_split(arry , no_of_splits , axis= 0  ) \n",
    " axis is optional \n",
    " it  splits a array and create a array of the dimension of parents array \n",
    " "
   ]
  },
  {
   "cell_type": "code",
   "execution_count": 29,
   "id": "4e4509f4-254b-4634-801b-1074ed658d25",
   "metadata": {},
   "outputs": [
    {
     "name": "stdout",
     "output_type": "stream",
     "text": [
      "[0 1 2 3 4 5 6 7 8 9]\n",
      "[array([0, 1, 2, 3, 4]), array([5, 6, 7, 8, 9])]\n"
     ]
    },
    {
     "data": {
      "text/plain": [
       "array([5, 6, 7, 8, 9])"
      ]
     },
     "execution_count": 29,
     "metadata": {},
     "output_type": "execute_result"
    }
   ],
   "source": [
    "arr5= np.arange( start = 0 , stop= 10 ) \n",
    "print (arr5 ) \n",
    "splitedArry = np.array_split(arr5 ,2  ) \n",
    "print(splitedArry ) \n",
    "\n",
    "## to get one array for splited array , it return a  list of splited array \n",
    "splitedArry[1] "
   ]
  },
  {
   "cell_type": "markdown",
   "id": "f0c23207-2873-4b79-a044-18ac557498c1",
   "metadata": {},
   "source": [
    "## Search array "
   ]
  },
  {
   "cell_type": "markdown",
   "id": "6cb90f0b-a12f-46ba-8045-e3e5e5ccf534",
   "metadata": {},
   "source": [
    "### np.where((arry) == 2 ) \n",
    "it return the postion of 2 in the array "
   ]
  },
  {
   "cell_type": "code",
   "execution_count": 32,
   "id": "115472db-c379-46b7-8f08-043b17c38da2",
   "metadata": {},
   "outputs": [
    {
     "name": "stdout",
     "output_type": "stream",
     "text": [
      "(array([2, 3, 5, 6]),)\n"
     ]
    }
   ],
   "source": [
    "arr6 = np.array( [ 1,35,6,8,9 ,10,14]) \n",
    "\n",
    "#it return the postion of element where the remender is  0 \n",
    "pos = np.where( ( arr6%2) == 0 ) \n",
    "print(pos) "
   ]
  },
  {
   "cell_type": "markdown",
   "id": "1e8a974f-606d-43cb-b69d-46b75acd6559",
   "metadata": {},
   "source": [
    "## np.searchsorted( array ,  element , side=\"right\" )  \n",
    "serachsorted array tell the postion of element   ,  where that elment can be fit in a sorted  form both   side \n",
    "lef of  right , \n",
    "\n",
    "expample here  we want to chekk   where 5 is fit in the array of  1 to  8 "
   ]
  },
  {
   "cell_type": "code",
   "execution_count": 35,
   "id": "cc00b748-99d2-4fa1-ac26-5ae24a8d2e61",
   "metadata": {},
   "outputs": [
    {
     "name": "stdout",
     "output_type": "stream",
     "text": [
      "4\n",
      "[4 4 5]\n"
     ]
    }
   ],
   "source": [
    "sorted_arr = np.array( [1,2,3,4,6,8]) \n",
    "# searching form left , and  left is defualt side \n",
    "pos = np.searchsorted( sorted_arr , 5 , side=\"left\" ) \n",
    "print(pos)\n",
    "#you can also pass the  list  , now it will tell where 5 , 6 ,7 will placed \n",
    "pos2 = np.searchsorted( sorted_arr ,[ 5 , 6,7], side=\"left\" ) \n",
    "print(pos2 ) "
   ]
  },
  {
   "cell_type": "markdown",
   "id": "d36bff7f-7e17-4b32-81c3-739d787c45bc",
   "metadata": {},
   "source": [
    "## sort array "
   ]
  },
  {
   "cell_type": "markdown",
   "id": "31340c56-55a1-48ac-8e05-9bbeaf0af723",
   "metadata": {},
   "source": [
    "it sort the array    , numerical and alphabe "
   ]
  },
  {
   "cell_type": "code",
   "execution_count": 40,
   "id": "3cd09725-843f-4d02-a2c4-c265420c4f7a",
   "metadata": {},
   "outputs": [
    {
     "name": "stdout",
     "output_type": "stream",
     "text": [
      "['A' 'B' 'C' 'a' 'b' 'c']\n"
     ]
    }
   ],
   "source": [
    "arr = np.array([ \"B\" ,\"a\"  ,\"c\", \"A\" ,\"b\" , \"C\",] ) \n",
    "sortedArr = np.sort( arr) \n",
    "print(sortedArr) "
   ]
  },
  {
   "cell_type": "markdown",
   "id": "3ae1c56a-14ff-48fc-8dcc-331eed2416ad",
   "metadata": {},
   "source": [
    "### filter Array "
   ]
  },
  {
   "cell_type": "code",
   "execution_count": 42,
   "id": "a6ae984e-3851-4e68-8759-54d249ab54b0",
   "metadata": {},
   "outputs": [
    {
     "data": {
      "text/plain": [
       "array(['B', 'c'], dtype='<U1')"
      ]
     },
     "execution_count": 42,
     "metadata": {},
     "output_type": "execute_result"
    }
   ],
   "source": [
    "filter = [ True ,False , True, False ,False,False  ] \n",
    "arr[filter] "
   ]
  },
  {
   "cell_type": "markdown",
   "id": "00fcb1a1-4718-4fde-a4ef-20f5c333cbaf",
   "metadata": {},
   "source": [
    "### np.random.shuffle(array )\n",
    "randomly shuffels  the array "
   ]
  },
  {
   "cell_type": "code",
   "execution_count": 47,
   "id": "77f4e7fd-f61f-4015-b676-f894e6086da3",
   "metadata": {},
   "outputs": [
    {
     "name": "stdout",
     "output_type": "stream",
     "text": [
      "[4 6 2 8 1 3]\n"
     ]
    }
   ],
   "source": [
    "np.random.shuffle(sorted_arr) \n",
    "print(sorted_arr ) "
   ]
  },
  {
   "cell_type": "markdown",
   "id": "1abbbbf5-f899-4423-ac0a-0b33eaf04ae9",
   "metadata": {},
   "source": [
    "## np.unique(arr1 ) \n",
    "it retrun   all the data  in arry that are uniqe in the arry , remove duplicate \n",
    "\n",
    "data with index no \n",
    "np.unique( arr1 , return_index= True , return_counts = True ) \n"
   ]
  },
  {
   "cell_type": "code",
   "execution_count": 50,
   "id": "fbda2e25-1880-4d23-8748-2a5f52c0652e",
   "metadata": {},
   "outputs": [
    {
     "name": "stdout",
     "output_type": "stream",
     "text": [
      "[1 2 3 5 6 7 8]\n",
      "(array([1, 2, 3, 5, 6, 7, 8]), array([0, 1, 2, 5, 6, 7, 8]), array([1, 2, 2, 1, 1, 2, 1]))\n"
     ]
    }
   ],
   "source": [
    "arr = np.array([1,2,3,3,2,5,6,7,8,7]) \n",
    "print( np.unique(arr) ) \n",
    "print( np.unique( arr, return_index=True , return_counts=True ) )"
   ]
  },
  {
   "cell_type": "markdown",
   "id": "daff8b71-f861-45a6-b8e7-79445b13e04d",
   "metadata": {},
   "source": [
    "### np.resize( arry , ( row,col) ) \n",
    "it also resize the arry in 2d or 3d \n"
   ]
  },
  {
   "cell_type": "code",
   "execution_count": 53,
   "id": "24fe6974-e941-45ab-b141-a88d6dac3fbd",
   "metadata": {},
   "outputs": [
    {
     "name": "stdout",
     "output_type": "stream",
     "text": [
      "[[1 2]\n",
      " [3 3]\n",
      " [2 5]\n",
      " [6 7]\n",
      " [8 7]]\n"
     ]
    }
   ],
   "source": [
    "arry2d =np.resize( arr , ( 5 ,2 ) ) \n",
    "print(arry2d) "
   ]
  },
  {
   "cell_type": "markdown",
   "id": "a7b98991-55c1-41d6-af7e-2421553b0c6c",
   "metadata": {},
   "source": [
    "## arry.flatten( order='f') \n",
    "## np.ravel( arr , order='c') \n",
    "it convert the arry into 1d arry \n",
    "\n",
    "'C' order (C-style, row-major order): Flattens the array in row-major order, meaning it iterates over the rows first, then the columns.\n",
    "'F' order (Fortran-style, column-major order): Flattens the array in column-major order, meaning it iterates over the columns first, then the rows.\n",
    "[[1, 2, 3],\n",
    " [4, 5, 6]]\n",
    "'C' order flattening: 1, 2, 3, 4, 5, 6\n",
    "'F' order flattening: 1, 4, 2, 5, 3, 6\n",
    "\n",
    "'A' order ('K' order): This stands for \"Any\" order. It means that NumPy will choose the most appropriate order based on the memory layout of the array. If the array is in C-contiguous order, it will behave as if 'C' order is specified. If it's in Fortran-contiguous order, it will behave as if 'F' order is specified.\n",
    "\n"
   ]
  },
  {
   "cell_type": "code",
   "execution_count": 57,
   "id": "60a686ce-8dfd-4bdb-a8f4-8619dfe1b8f3",
   "metadata": {},
   "outputs": [
    {
     "name": "stdout",
     "output_type": "stream",
     "text": [
      "[1 2 3 3 2 5 6 7 8 7]\n"
     ]
    }
   ],
   "source": [
    "print( arry2d.flatten( order='c') )"
   ]
  },
  {
   "cell_type": "code",
   "execution_count": 58,
   "id": "469dc409-276e-4ad9-a49d-39527140a95c",
   "metadata": {},
   "outputs": [
    {
     "name": "stdout",
     "output_type": "stream",
     "text": [
      "[1 3 2 6 8 2 3 5 7 7]\n"
     ]
    }
   ],
   "source": [
    "print( np.ravel(arry2d , order='f') )"
   ]
  },
  {
   "cell_type": "markdown",
   "id": "d32372be-96ed-4e2a-8e69-2623f92d8efb",
   "metadata": {},
   "source": [
    "###  np.insert( arry , position , value , axis = 0 ) \n",
    "postion  is index no , valuse can ve ins list [ 2, 4,5]   if you want  to inserti in 2d arry you can use axis "
   ]
  },
  {
   "cell_type": "code",
   "execution_count": 59,
   "id": "07152176-bfd8-4c50-a1d2-f62b8c2545b7",
   "metadata": {},
   "outputs": [
    {
     "name": "stdout",
     "output_type": "stream",
     "text": [
      "[ 1  2 40  3  3  2  5  6  7  8  7]\n"
     ]
    }
   ],
   "source": [
    "print ( np.insert( arr , 2 , 40 ) ) "
   ]
  },
  {
   "cell_type": "markdown",
   "id": "b7435f42-c7e5-40f0-a083-4444b553a379",
   "metadata": {},
   "source": [
    "### np.append( arry ,  vlaues , axis= 0 ) \n",
    "add data in last of array \n"
   ]
  },
  {
   "cell_type": "markdown",
   "id": "499b721a-327f-48a9-8ce4-66696ceacae5",
   "metadata": {},
   "source": [
    " ## np.delete( arry , indexNO of targeted val ) \n",
    " "
   ]
  },
  {
   "cell_type": "code",
   "execution_count": 61,
   "id": "f90caf0d-b90c-4de1-b6bb-f41a5729bf42",
   "metadata": {},
   "outputs": [
    {
     "name": "stdout",
     "output_type": "stream",
     "text": [
      "[1 2 3 2 5 6 7 8 7]\n"
     ]
    }
   ],
   "source": [
    "print( np.delete( arr , 3 ) ) "
   ]
  },
  {
   "cell_type": "markdown",
   "id": "5f27ff2b-f4f0-416b-8db0-d8f4a3d296b9",
   "metadata": {},
   "source": [
    "## np.matrix( [ [1,3,4] , [ 1,3,4]]) \n",
    "to create the matrix in  numpy \n",
    "\n",
    "np.array( list ) mulitpy lin [ 1 ,2 ] * [1,3] = 1 ,6 \n",
    "but np.matrix perform dot multiplication \n",
    "\n"
   ]
  },
  {
   "cell_type": "code",
   "execution_count": 69,
   "id": "201bed9e-7819-405c-8803-58c8834f44d8",
   "metadata": {},
   "outputs": [
    {
     "name": "stdout",
     "output_type": "stream",
     "text": [
      "[[ 3  8]\n",
      " [ 4 11]]\n",
      "[[ 3  8]\n",
      " [ 4 11]]\n",
      "\n",
      "[[ 1  4]\n",
      " [16 25]]\n",
      "[[ 9 12]\n",
      " [24 33]]\n"
     ]
    }
   ],
   "source": [
    "arr1 = np.matrix([ [1,2 ] ,[1,3] ] ) \n",
    "arr2 = np.matrix([ [1,2 ] ,[1,3] ] ) \n",
    "print( arr1 * arr2 ) \n",
    "print( arr1.dot(arr2) ) \n",
    "\n",
    "## multiplication with array \n",
    "print()\n",
    "arr3= np.array([[1, 2],\n",
    "                [4, 5]])\n",
    "print( arr3 * arr3 ) \n",
    "\n",
    "# to perform dot matrix not of rows must be uequal to no of  cos or vise versa \n",
    "print( arr3.dot(arr3) ) "
   ]
  },
  {
   "cell_type": "markdown",
   "id": "be79f185-c649-472e-bf65-57b9193a2a2d",
   "metadata": {},
   "source": [
    "### transpose np.transpose( matrix )  / matrix.T"
   ]
  },
  {
   "cell_type": "code",
   "execution_count": 70,
   "id": "976f07eb-3f0f-4ad0-b263-2622d7901f43",
   "metadata": {},
   "outputs": [
    {
     "name": "stdout",
     "output_type": "stream",
     "text": [
      "[[1 1]\n",
      " [2 3]]\n"
     ]
    }
   ],
   "source": [
    "print( arr2.T) "
   ]
  },
  {
   "cell_type": "markdown",
   "id": "3a9a8a1f-7081-44d4-995e-1f9358498c92",
   "metadata": {},
   "source": [
    "##  np.swapaxes( matrix , 0 , 1) \n",
    "change the axis \n",
    "this is the exmape where we want to change  0 axix to 1 row to col \n"
   ]
  },
  {
   "cell_type": "code",
   "execution_count": 72,
   "id": "7379f80b-2f04-4154-92dc-8041f6261bad",
   "metadata": {},
   "outputs": [
    {
     "name": "stdout",
     "output_type": "stream",
     "text": [
      "[[1 1]\n",
      " [2 3]]\n"
     ]
    }
   ],
   "source": [
    "print( np.swapaxes( arr2 , 0 , 1 ))  "
   ]
  },
  {
   "cell_type": "markdown",
   "id": "a38eabbf-4bee-4c6a-a71c-d8642614aa86",
   "metadata": {},
   "source": [
    "The inverse of a matrix A is denoted as A⁻¹ and is given by:\n",
    "\n",
    "$$A^{-1} = \\frac{1}{{\\text{det}(A)}} \\cdot \\text{adj}(A) $$\n",
    "\n",
    "where det(A) represents the determinant of matrix A, and adj(A) represents the adjugate (or adjoint) of matrix A.\n",
    "### Determinant (det) of a matrix:\n",
    "\n",
    "The determinant of a 2x2 matrix A is given by:\n",
    "\n",
    "$$ \\text{det}(A) = (a \\cdot d) - (b \\cdot c) $$\n",
    "\n",
    "For a general 3x3 matrix A:\n",
    "\n",
    "$$ \\text{det}(A) = a(ei - fh) - b(di - fg) + c(dh - eg) $$\n",
    "\n",
    "### Adjugate (adj) of a matrix:\n",
    "\n",
    "The adjugate (or adjoint) matrix of A, denoted as adj(A), is obtained by taking the transpose of the cofactor matrix:\n",
    "\n",
    "$$ \\text{adj}(A) = \\begin{bmatrix} C_{11} & C_{21} & \\cdots & C_{n1} \\\\ C_{12} & C_{22} & \\cdots & C_{n2} \\\\ \\vdots & \\vdots & \\ddots & \\vdots \\\\ C_{1n} & C_{2n} & \\cdots & C_{nn} \\end{bmatrix}^T $$\n",
    "\n",
    "Where \\( C_{ij} \\) is the cofactor of the element at the ith row and jth column in matrix A.\n",
    "\n",
    "### Example:\n",
    "\n",
    "Consider the matrix A:\n",
    "\n",
    "$$ A = \\begin{bmatrix} 2 & 3 \\\\ 1 & 4 \\end{bmatrix} $$\n",
    "\n",
    "#### Determinant:\n",
    "\n",
    "$$ \\text{det}(A) = (2 \\cdot 4) - (3 \\cdot 1) = 8 - 3 = 5 $$\n",
    "\n",
    "#### Adjugate:\n",
    "\n",
    "Cofactor Matrix:\n",
    "\n",
    "$$ \\begin{bmatrix} 4 & -3 \\\\ -1 & 2 \\end{bmatrix} $$\n",
    "\n",
    "Adjugate Matrix:\n",
    "\n",
    "$$ \\text{adj}(A) = \\begin{bmatrix} 4 & -1 \\\\ -3 & 2 \\end{bmatrix} $$\n",
    "\n"
   ]
  },
  {
   "cell_type": "markdown",
   "id": "a6acdb8d-c004-4987-aa8e-6df8e6f0c325",
   "metadata": {},
   "source": [
    "### np.linalg.inv(matrix ) \n",
    "for inverse the matrix \n"
   ]
  },
  {
   "cell_type": "code",
   "execution_count": 74,
   "id": "ab4c7b60-1be1-43ce-87e1-2f34738bdcea",
   "metadata": {},
   "outputs": [
    {
     "name": "stdout",
     "output_type": "stream",
     "text": [
      "[[ 3. -2.]\n",
      " [-1.  1.]]\n"
     ]
    }
   ],
   "source": [
    "print( np.linalg.inv( arr2 ) ) "
   ]
  },
  {
   "cell_type": "markdown",
   "id": "27512e22-664f-4a32-83df-dc59c314fb7d",
   "metadata": {},
   "source": [
    "## power of matrix , np.linalg.matrix_power( matrix , power )\n",
    "\n",
    "np.linalg.matrix_power( m , n ) \n",
    "\n",
    "if n  = 0   return   inverse of matrix \n",
    "\n",
    "[[1,0]\n",
    "[0,1]] \n",
    "\n",
    "if n > 0 : m^n \n",
    "\n",
    "if n< 0 : \n",
    "\n",
    "inverse of m *  n \n"
   ]
  },
  {
   "cell_type": "markdown",
   "id": "18730aab-d924-4082-b58c-31c8bfc8e7d0",
   "metadata": {},
   "source": [
    "## Determinant  of matrix  np.linalg.det( matrix ) "
   ]
  },
  {
   "cell_type": "code",
   "execution_count": 75,
   "id": "af709505-814a-4709-8c85-ff7502583584",
   "metadata": {},
   "outputs": [
    {
     "name": "stdout",
     "output_type": "stream",
     "text": [
      "1.0\n"
     ]
    }
   ],
   "source": [
    "print( np.linalg.det(arr2))"
   ]
  },
  {
   "cell_type": "code",
   "execution_count": null,
   "id": "6e81fb13-0fae-4fe0-b13d-f09efc0782d4",
   "metadata": {},
   "outputs": [],
   "source": []
  }
 ],
 "metadata": {
  "kernelspec": {
   "display_name": "Python 3 (ipykernel)",
   "language": "python",
   "name": "python3"
  },
  "language_info": {
   "codemirror_mode": {
    "name": "ipython",
    "version": 3
   },
   "file_extension": ".py",
   "mimetype": "text/x-python",
   "name": "python",
   "nbconvert_exporter": "python",
   "pygments_lexer": "ipython3",
   "version": "3.11.5"
  }
 },
 "nbformat": 4,
 "nbformat_minor": 5
}
