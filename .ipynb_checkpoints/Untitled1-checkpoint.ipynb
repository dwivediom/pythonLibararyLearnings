{
 "cells": [
  {
   "cell_type": "code",
   "execution_count": 36,
   "id": "08bfe21b-3db2-4a61-9ce5-2a85375685fd",
   "metadata": {},
   "outputs": [],
   "source": [
    "import torch \n",
    "import torch.nn as nn \n",
    "import torch.nn.functional as F \n",
    "import pandas as pd  \n",
    "import matplotlib  as plt \n"
   ]
  },
  {
   "cell_type": "code",
   "execution_count": 81,
   "id": "0dd8d071-3d3f-488d-b541-f34956a22a8e",
   "metadata": {},
   "outputs": [],
   "source": [
    "class Model(nn.Module) :\n",
    "    def __init__( self , input_features=4 , h1= 8 , h2= 9 , out_features = 3 ) : \n",
    "      super().__init__() \n",
    "      self.fc1 = nn.Linear( input_features , h1 ) \n",
    "      self.fc2 = nn.Linear( h1 , h2) \n",
    "      self.out = nn.Linear( h2 , out_features ) \n",
    "    def forward(sel , x ): \n",
    "      x = F.relu(self.fc1(x) ) \n",
    "      x = F.relu(self.fc2(x)) \n",
    "      x= self.out(x) \n",
    "      return x "
   ]
  },
  {
   "cell_type": "code",
   "execution_count": 35,
   "id": "6147e3b5-87de-48c2-9304-da92f01f37f5",
   "metadata": {},
   "outputs": [],
   "source": [
    "#pick a manual seed for  randomazation ( wheight and bias ) \n",
    "torch.manual_seed(41) #pick a manual seed for  randomazation ( wheight and bias ) \n",
    "model = Model() "
   ]
  },
  {
   "cell_type": "code",
   "execution_count": 42,
   "id": "73156eae-aecc-4354-aebb-7c3136e83199",
   "metadata": {},
   "outputs": [],
   "source": [
    "my_df = pd.read_csv(\"./8836201/iris.csv\") "
   ]
  },
  {
   "cell_type": "code",
   "execution_count": 43,
   "id": "3c081ec9-6c16-4516-8f9b-7adad3274554",
   "metadata": {},
   "outputs": [
    {
     "data": {
      "text/html": [
       "<div>\n",
       "<style scoped>\n",
       "    .dataframe tbody tr th:only-of-type {\n",
       "        vertical-align: middle;\n",
       "    }\n",
       "\n",
       "    .dataframe tbody tr th {\n",
       "        vertical-align: top;\n",
       "    }\n",
       "\n",
       "    .dataframe thead th {\n",
       "        text-align: right;\n",
       "    }\n",
       "</style>\n",
       "<table border=\"1\" class=\"dataframe\">\n",
       "  <thead>\n",
       "    <tr style=\"text-align: right;\">\n",
       "      <th></th>\n",
       "      <th>sepal.length</th>\n",
       "      <th>sepal.width</th>\n",
       "      <th>petal.length</th>\n",
       "      <th>petal.width</th>\n",
       "      <th>variety</th>\n",
       "    </tr>\n",
       "  </thead>\n",
       "  <tbody>\n",
       "    <tr>\n",
       "      <th>0</th>\n",
       "      <td>5.1</td>\n",
       "      <td>3.5</td>\n",
       "      <td>1.4</td>\n",
       "      <td>0.2</td>\n",
       "      <td>Setosa</td>\n",
       "    </tr>\n",
       "    <tr>\n",
       "      <th>1</th>\n",
       "      <td>4.9</td>\n",
       "      <td>3.0</td>\n",
       "      <td>1.4</td>\n",
       "      <td>0.2</td>\n",
       "      <td>Setosa</td>\n",
       "    </tr>\n",
       "    <tr>\n",
       "      <th>2</th>\n",
       "      <td>4.7</td>\n",
       "      <td>3.2</td>\n",
       "      <td>1.3</td>\n",
       "      <td>0.2</td>\n",
       "      <td>Setosa</td>\n",
       "    </tr>\n",
       "    <tr>\n",
       "      <th>3</th>\n",
       "      <td>4.6</td>\n",
       "      <td>3.1</td>\n",
       "      <td>1.5</td>\n",
       "      <td>0.2</td>\n",
       "      <td>Setosa</td>\n",
       "    </tr>\n",
       "    <tr>\n",
       "      <th>4</th>\n",
       "      <td>5.0</td>\n",
       "      <td>3.6</td>\n",
       "      <td>1.4</td>\n",
       "      <td>0.2</td>\n",
       "      <td>Setosa</td>\n",
       "    </tr>\n",
       "    <tr>\n",
       "      <th>...</th>\n",
       "      <td>...</td>\n",
       "      <td>...</td>\n",
       "      <td>...</td>\n",
       "      <td>...</td>\n",
       "      <td>...</td>\n",
       "    </tr>\n",
       "    <tr>\n",
       "      <th>145</th>\n",
       "      <td>6.7</td>\n",
       "      <td>3.0</td>\n",
       "      <td>5.2</td>\n",
       "      <td>2.3</td>\n",
       "      <td>Virginica</td>\n",
       "    </tr>\n",
       "    <tr>\n",
       "      <th>146</th>\n",
       "      <td>6.3</td>\n",
       "      <td>2.5</td>\n",
       "      <td>5.0</td>\n",
       "      <td>1.9</td>\n",
       "      <td>Virginica</td>\n",
       "    </tr>\n",
       "    <tr>\n",
       "      <th>147</th>\n",
       "      <td>6.5</td>\n",
       "      <td>3.0</td>\n",
       "      <td>5.2</td>\n",
       "      <td>2.0</td>\n",
       "      <td>Virginica</td>\n",
       "    </tr>\n",
       "    <tr>\n",
       "      <th>148</th>\n",
       "      <td>6.2</td>\n",
       "      <td>3.4</td>\n",
       "      <td>5.4</td>\n",
       "      <td>2.3</td>\n",
       "      <td>Virginica</td>\n",
       "    </tr>\n",
       "    <tr>\n",
       "      <th>149</th>\n",
       "      <td>5.9</td>\n",
       "      <td>3.0</td>\n",
       "      <td>5.1</td>\n",
       "      <td>1.8</td>\n",
       "      <td>Virginica</td>\n",
       "    </tr>\n",
       "  </tbody>\n",
       "</table>\n",
       "<p>150 rows × 5 columns</p>\n",
       "</div>"
      ],
      "text/plain": [
       "     sepal.length  sepal.width  petal.length  petal.width    variety\n",
       "0             5.1          3.5           1.4          0.2     Setosa\n",
       "1             4.9          3.0           1.4          0.2     Setosa\n",
       "2             4.7          3.2           1.3          0.2     Setosa\n",
       "3             4.6          3.1           1.5          0.2     Setosa\n",
       "4             5.0          3.6           1.4          0.2     Setosa\n",
       "..            ...          ...           ...          ...        ...\n",
       "145           6.7          3.0           5.2          2.3  Virginica\n",
       "146           6.3          2.5           5.0          1.9  Virginica\n",
       "147           6.5          3.0           5.2          2.0  Virginica\n",
       "148           6.2          3.4           5.4          2.3  Virginica\n",
       "149           5.9          3.0           5.1          1.8  Virginica\n",
       "\n",
       "[150 rows x 5 columns]"
      ]
     },
     "execution_count": 43,
     "metadata": {},
     "output_type": "execute_result"
    }
   ],
   "source": [
    "my_df"
   ]
  },
  {
   "cell_type": "code",
   "execution_count": 45,
   "id": "8de1ef9e-83ff-45d0-996a-8dfda14e19e2",
   "metadata": {},
   "outputs": [],
   "source": [
    "#change last row \n",
    "my_df['variety'] = my_df['variety'].replace('Setosa' , 0.0) \n",
    "my_df['variety'] = my_df['variety'].replace('Versicolor' , 1.0) \n",
    "my_df['variety'] = my_df['variety'].replace('Virginica' , 2.0) "
   ]
  },
  {
   "cell_type": "code",
   "execution_count": 46,
   "id": "b4695bd9-d8fd-43ee-8373-cfa75cb1321a",
   "metadata": {},
   "outputs": [
    {
     "data": {
      "text/html": [
       "<div>\n",
       "<style scoped>\n",
       "    .dataframe tbody tr th:only-of-type {\n",
       "        vertical-align: middle;\n",
       "    }\n",
       "\n",
       "    .dataframe tbody tr th {\n",
       "        vertical-align: top;\n",
       "    }\n",
       "\n",
       "    .dataframe thead th {\n",
       "        text-align: right;\n",
       "    }\n",
       "</style>\n",
       "<table border=\"1\" class=\"dataframe\">\n",
       "  <thead>\n",
       "    <tr style=\"text-align: right;\">\n",
       "      <th></th>\n",
       "      <th>sepal.length</th>\n",
       "      <th>sepal.width</th>\n",
       "      <th>petal.length</th>\n",
       "      <th>petal.width</th>\n",
       "      <th>variety</th>\n",
       "    </tr>\n",
       "  </thead>\n",
       "  <tbody>\n",
       "    <tr>\n",
       "      <th>0</th>\n",
       "      <td>5.1</td>\n",
       "      <td>3.5</td>\n",
       "      <td>1.4</td>\n",
       "      <td>0.2</td>\n",
       "      <td>0.0</td>\n",
       "    </tr>\n",
       "    <tr>\n",
       "      <th>1</th>\n",
       "      <td>4.9</td>\n",
       "      <td>3.0</td>\n",
       "      <td>1.4</td>\n",
       "      <td>0.2</td>\n",
       "      <td>0.0</td>\n",
       "    </tr>\n",
       "    <tr>\n",
       "      <th>2</th>\n",
       "      <td>4.7</td>\n",
       "      <td>3.2</td>\n",
       "      <td>1.3</td>\n",
       "      <td>0.2</td>\n",
       "      <td>0.0</td>\n",
       "    </tr>\n",
       "    <tr>\n",
       "      <th>3</th>\n",
       "      <td>4.6</td>\n",
       "      <td>3.1</td>\n",
       "      <td>1.5</td>\n",
       "      <td>0.2</td>\n",
       "      <td>0.0</td>\n",
       "    </tr>\n",
       "    <tr>\n",
       "      <th>4</th>\n",
       "      <td>5.0</td>\n",
       "      <td>3.6</td>\n",
       "      <td>1.4</td>\n",
       "      <td>0.2</td>\n",
       "      <td>0.0</td>\n",
       "    </tr>\n",
       "    <tr>\n",
       "      <th>...</th>\n",
       "      <td>...</td>\n",
       "      <td>...</td>\n",
       "      <td>...</td>\n",
       "      <td>...</td>\n",
       "      <td>...</td>\n",
       "    </tr>\n",
       "    <tr>\n",
       "      <th>145</th>\n",
       "      <td>6.7</td>\n",
       "      <td>3.0</td>\n",
       "      <td>5.2</td>\n",
       "      <td>2.3</td>\n",
       "      <td>2.0</td>\n",
       "    </tr>\n",
       "    <tr>\n",
       "      <th>146</th>\n",
       "      <td>6.3</td>\n",
       "      <td>2.5</td>\n",
       "      <td>5.0</td>\n",
       "      <td>1.9</td>\n",
       "      <td>2.0</td>\n",
       "    </tr>\n",
       "    <tr>\n",
       "      <th>147</th>\n",
       "      <td>6.5</td>\n",
       "      <td>3.0</td>\n",
       "      <td>5.2</td>\n",
       "      <td>2.0</td>\n",
       "      <td>2.0</td>\n",
       "    </tr>\n",
       "    <tr>\n",
       "      <th>148</th>\n",
       "      <td>6.2</td>\n",
       "      <td>3.4</td>\n",
       "      <td>5.4</td>\n",
       "      <td>2.3</td>\n",
       "      <td>2.0</td>\n",
       "    </tr>\n",
       "    <tr>\n",
       "      <th>149</th>\n",
       "      <td>5.9</td>\n",
       "      <td>3.0</td>\n",
       "      <td>5.1</td>\n",
       "      <td>1.8</td>\n",
       "      <td>2.0</td>\n",
       "    </tr>\n",
       "  </tbody>\n",
       "</table>\n",
       "<p>150 rows × 5 columns</p>\n",
       "</div>"
      ],
      "text/plain": [
       "     sepal.length  sepal.width  petal.length  petal.width  variety\n",
       "0             5.1          3.5           1.4          0.2      0.0\n",
       "1             4.9          3.0           1.4          0.2      0.0\n",
       "2             4.7          3.2           1.3          0.2      0.0\n",
       "3             4.6          3.1           1.5          0.2      0.0\n",
       "4             5.0          3.6           1.4          0.2      0.0\n",
       "..            ...          ...           ...          ...      ...\n",
       "145           6.7          3.0           5.2          2.3      2.0\n",
       "146           6.3          2.5           5.0          1.9      2.0\n",
       "147           6.5          3.0           5.2          2.0      2.0\n",
       "148           6.2          3.4           5.4          2.3      2.0\n",
       "149           5.9          3.0           5.1          1.8      2.0\n",
       "\n",
       "[150 rows x 5 columns]"
      ]
     },
     "execution_count": 46,
     "metadata": {},
     "output_type": "execute_result"
    }
   ],
   "source": [
    "my_df"
   ]
  },
  {
   "cell_type": "code",
   "execution_count": 59,
   "id": "347c8fda-4fe3-4785-b090-046d00afb58e",
   "metadata": {},
   "outputs": [],
   "source": [
    "#Train test  split set X , y \n",
    "x = my_df.drop(\"variety\" , axis=1) \n",
    "y = my_df['variety'] "
   ]
  },
  {
   "cell_type": "code",
   "execution_count": 60,
   "id": "5a262254-4671-4139-96e6-e1c1ba00d31c",
   "metadata": {},
   "outputs": [],
   "source": [
    "#conveert it to numpyt arrys \n",
    "x= x.values\n",
    "y= y.values\n",
    "\n"
   ]
  },
  {
   "cell_type": "code",
   "execution_count": 61,
   "id": "7c42a621-257d-42d6-aad7-76f649e70054",
   "metadata": {},
   "outputs": [],
   "source": [
    "from sklearn.model_selection import train_test_split "
   ]
  },
  {
   "cell_type": "code",
   "execution_count": 62,
   "id": "09fe09a7-8659-4ee8-aac7-fb2120a1a530",
   "metadata": {},
   "outputs": [],
   "source": [
    "#train test split \n",
    "X_train , X_test , Y_train , Y_test = train_test_split(x ,y , test_size=0.2 , random_state=41 ) "
   ]
  },
  {
   "cell_type": "code",
   "execution_count": 74,
   "id": "08488eb4-e780-4f4c-91fe-dc2d5e3fe2a8",
   "metadata": {},
   "outputs": [],
   "source": [
    "#converting x features  to float tensors \n",
    "x_train = torch.FloatTensor(X_train) \n",
    "x_test = torch.FloatTensor(X_test) "
   ]
  },
  {
   "cell_type": "code",
   "execution_count": 67,
   "id": "3d00960b-f422-45ea-8c83-6ce7c1a71c3f",
   "metadata": {},
   "outputs": [],
   "source": [
    "#convrting y fetures to float tensors \n",
    "y_train = torch.LongTensor(Y_train) \n",
    "y_test = torch.LongTensor(Y_test)"
   ]
  },
  {
   "cell_type": "code",
   "execution_count": 70,
   "id": "65b06e1a-28c8-490c-aab7-200468f6589b",
   "metadata": {},
   "outputs": [],
   "source": [
    "#CorssEntropyLoss  is a  type of cost functiion that measuers the cost/error deiffrence between actual data and \n",
    "#actual data  How far pridiction is from  actual data \n",
    "criterion = nn.CrossEntropyLoss()\n",
    "#choose adam optimizer , lr = learning rate ( if error dosen't go down after bunch of itration , decreas the learing rat rate \n",
    "optimizer = torch.optim.Adam(model.parameters() , lr=0.01) "
   ]
  },
  {
   "cell_type": "code",
   "execution_count": 72,
   "id": "e7d76e8b-98fb-4f28-abc8-d1627e77ac17",
   "metadata": {},
   "outputs": [
    {
     "data": {
      "text/plain": [
       "<bound method Module.parameters of Model(\n",
       "  (fc1): Linear(in_features=4, out_features=8, bias=True)\n",
       "  (fc2): Linear(in_features=8, out_features=9, bias=True)\n",
       "  (out): Linear(in_features=9, out_features=3, bias=True)\n",
       ")>"
      ]
     },
     "execution_count": 72,
     "metadata": {},
     "output_type": "execute_result"
    }
   ],
   "source": [
    "model.parameters"
   ]
  },
  {
   "cell_type": "code",
   "execution_count": 82,
   "id": "80a394bf-f4ee-40c6-842e-287869733e13",
   "metadata": {},
   "outputs": [
    {
     "ename": "NameError",
     "evalue": "name 'slef' is not defined",
     "output_type": "error",
     "traceback": [
      "\u001b[0;31m---------------------------------------------------------------------------\u001b[0m",
      "\u001b[0;31mNameError\u001b[0m                                 Traceback (most recent call last)",
      "Cell \u001b[0;32mIn[82], line 6\u001b[0m\n\u001b[1;32m      3\u001b[0m losses \u001b[38;5;241m=\u001b[39m [] \n\u001b[1;32m      4\u001b[0m \u001b[38;5;28;01mfor\u001b[39;00m i  \u001b[38;5;129;01min\u001b[39;00m \u001b[38;5;28mrange\u001b[39m(epochs) : \n\u001b[1;32m      5\u001b[0m     \u001b[38;5;66;03m#forward propogation  and get a preidiction \u001b[39;00m\n\u001b[0;32m----> 6\u001b[0m     y_pridict \u001b[38;5;241m=\u001b[39m \u001b[43mmodel\u001b[49m\u001b[38;5;241;43m.\u001b[39;49m\u001b[43mforward\u001b[49m\u001b[43m(\u001b[49m\u001b[43mx_train\u001b[49m\u001b[43m \u001b[49m\u001b[43m)\u001b[49m  \u001b[38;5;66;03m# get  pridicted results \u001b[39;00m\n\u001b[1;32m      8\u001b[0m     \u001b[38;5;66;03m# measure the loss / error ( cost function ) \u001b[39;00m\n\u001b[1;32m      9\u001b[0m     loss \u001b[38;5;241m=\u001b[39m criterion( y_pridict , y_train) \n",
      "Cell \u001b[0;32mIn[33], line 8\u001b[0m, in \u001b[0;36mModel.forward\u001b[0;34m(sel, x)\u001b[0m\n\u001b[1;32m      7\u001b[0m \u001b[38;5;28;01mdef\u001b[39;00m \u001b[38;5;21mforward\u001b[39m(sel , x ): \n\u001b[0;32m----> 8\u001b[0m   x \u001b[38;5;241m=\u001b[39m F\u001b[38;5;241m.\u001b[39mrelu(\u001b[43mslef\u001b[49m\u001b[38;5;241m.\u001b[39mfc1(x) ) \n\u001b[1;32m      9\u001b[0m   x \u001b[38;5;241m=\u001b[39m F\u001b[38;5;241m.\u001b[39mrelu(\u001b[38;5;28mself\u001b[39m\u001b[38;5;241m.\u001b[39mfc2(x)) \n\u001b[1;32m     10\u001b[0m   x\u001b[38;5;241m=\u001b[39m slef\u001b[38;5;241m.\u001b[39mout(x) \n",
      "\u001b[0;31mNameError\u001b[0m: name 'slef' is not defined"
     ]
    }
   ],
   "source": [
    "#modle traing \n",
    "epochs = 100  \n",
    "losses = [] \n",
    "for i  in range(epochs) : \n",
    "    #forward propogation  and get a preidiction \n",
    "    y_pridict = model.forward(x_train )  # get  pridicted results \n",
    "\n",
    "    # measure the loss / error ( cost function ) \n",
    "    loss = criterion( y_pridict , y_train) \n",
    "    # to keep track our loss  \n",
    "    # and converting pytorch tensor to numpy array \n",
    "    losses.append(loss.detach().numpy() ) \n",
    "\n",
    "    if i %10 ==0 : \n",
    "        print(f'Epoch:{i} and loss :{loss} ' )\n",
    "\n",
    "    #back propogation \n",
    "    optimizer.zero_grad()\n",
    "    loss.backward() \n",
    "    optimizer.setp() \n",
    "    "
   ]
  },
  {
   "cell_type": "code",
   "execution_count": null,
   "id": "efdd10cd-f804-476b-9edf-9c6b3c583d7a",
   "metadata": {},
   "outputs": [],
   "source": []
  }
 ],
 "metadata": {
  "kernelspec": {
   "display_name": "Python 3 (ipykernel)",
   "language": "python",
   "name": "python3"
  },
  "language_info": {
   "codemirror_mode": {
    "name": "ipython",
    "version": 3
   },
   "file_extension": ".py",
   "mimetype": "text/x-python",
   "name": "python",
   "nbconvert_exporter": "python",
   "pygments_lexer": "ipython3",
   "version": "3.11.5"
  }
 },
 "nbformat": 4,
 "nbformat_minor": 5
}
