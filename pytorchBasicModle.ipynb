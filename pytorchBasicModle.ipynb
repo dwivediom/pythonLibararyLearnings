{
 "cells": [
  {
   "cell_type": "code",
   "execution_count": 3,
   "id": "08bfe21b-3db2-4a61-9ce5-2a85375685fd",
   "metadata": {},
   "outputs": [],
   "source": [
    "import torch \n",
    "import torch.nn as nn \n",
    "import torch.nn.functional as F "
   ]
  },
  {
   "cell_type": "code",
   "execution_count": 10,
   "id": "0dd8d071-3d3f-488d-b541-f34956a22a8e",
   "metadata": {},
   "outputs": [],
   "source": [
    "class Modle(nn.Module) :\n",
    "    def __init__( self , input_features=4 , h1= 8 , h2= 9 , out_features = 3 ) : \n",
    "      self.fc1 = nn.Linear( in_features , h1 ) \n",
    "      self.fc1 = nn.Linear( h1 , h2) \n",
    "      self.out = nn.Linear( h2 , our_features ) \n",
    "    def forward(sel , x ): \n",
    "      x = F.relu(slef.fc1(x) ) \n",
    "      x = F.relu(self.fc2(x)) \n",
    "      x= slef.out(x) \n",
    "      return x "
   ]
  },
  {
   "cell_type": "code",
   "execution_count": null,
   "id": "6147e3b5-87de-48c2-9304-da92f01f37f5",
   "metadata": {},
   "outputs": [],
   "source": [
    " "
   ]
  }
 ],
 "metadata": {
  "kernelspec": {
   "display_name": "Python 3 (ipykernel)",
   "language": "python",
   "name": "python3"
  },
  "language_info": {
   "codemirror_mode": {
    "name": "ipython",
    "version": 3
   },
   "file_extension": ".py",
   "mimetype": "text/x-python",
   "name": "python",
   "nbconvert_exporter": "python",
   "pygments_lexer": "ipython3",
   "version": "3.11.5"
  }
 },
 "nbformat": 4,
 "nbformat_minor": 5
}
