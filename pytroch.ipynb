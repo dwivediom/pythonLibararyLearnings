{
 "cells": [
  {
   "cell_type": "code",
   "execution_count": 2,
   "id": "aea0196b-bfdb-4a94-b78f-512170610a7d",
   "metadata": {},
   "outputs": [
    {
     "name": "stdout",
     "output_type": "stream",
     "text": [
      "tensor([[0.3186, 0.5440, 0.8863],\n",
      "        [0.8876, 0.8502, 0.4334],\n",
      "        [0.5038, 0.9483, 0.2235],\n",
      "        [0.8358, 0.1127, 0.0220],\n",
      "        [0.6116, 0.2478, 0.2266]])\n"
     ]
    }
   ],
   "source": [
    "import torch\n",
    "x = torch.rand(5, 3)\n",
    "print(x)"
   ]
  },
  {
   "cell_type": "code",
   "execution_count": 5,
   "id": "c3ab52e0-ae06-4654-8784-dc0c4ca80b81",
   "metadata": {},
   "outputs": [
    {
     "data": {
      "text/plain": [
       "tensor([[0., 0., 0.],\n",
       "        [0., 0., 0.]])"
      ]
     },
     "execution_count": 5,
     "metadata": {},
     "output_type": "execute_result"
    }
   ],
   "source": [
    "y = torch.randn( 2 ,4 ) \n",
    "zeros = torch.zeros(2,3) \n",
    "zeros"
   ]
  },
  {
   "cell_type": "code",
   "execution_count": 3,
   "id": "56b3788d-b739-4da5-8072-55af8d43c258",
   "metadata": {},
   "outputs": [
    {
     "data": {
      "text/plain": [
       "tensor([0, 1, 2, 3, 4, 5, 6, 7, 8, 9])"
      ]
     },
     "execution_count": 3,
     "metadata": {},
     "output_type": "execute_result"
    }
   ],
   "source": [
    "range = torch.arange(10) \n",
    "range "
   ]
  },
  {
   "cell_type": "code",
   "execution_count": 10,
   "id": "1b1eea87-a15f-460f-af99-5106f77a007b",
   "metadata": {},
   "outputs": [
    {
     "name": "stdout",
     "output_type": "stream",
     "text": [
      "tensor([[0, 1, 2, 3, 4],\n",
      "        [5, 6, 7, 8, 9]])\n",
      "tensor([[0, 1, 2, 3, 4],\n",
      "        [5, 6, 7, 8, 9]])\n"
     ]
    }
   ],
   "source": [
    "X=range.reshape( 2, 5 ) \n",
    "X\n",
    "print(X) \n",
    "#-1 calculate automatic \n",
    "Y = range.reshape( 2,-1) \n",
    "print(Y)\n"
   ]
  },
  {
   "cell_type": "markdown",
   "id": "27a0222e-23c6-4349-abb8-0242d6ae372e",
   "metadata": {},
   "source": [
    "## view works same as reshape \n",
    "If you just want to reshape tensors, use torch.reshape. If you're also concerned about memory usage and want to ensure that the two tensors share the same data, use torch.view.\n",
    "\n"
   ]
  },
  {
   "cell_type": "code",
   "execution_count": 11,
   "id": "a378691b-aacb-46ee-ba1a-9e75632fd525",
   "metadata": {},
   "outputs": [
    {
     "data": {
      "text/plain": [
       "tensor([[0, 1, 2, 3, 4],\n",
       "        [5, 6, 7, 8, 9]])"
      ]
     },
     "execution_count": 11,
     "metadata": {},
     "output_type": "execute_result"
    }
   ],
   "source": [
    "range.view(2,5 ) "
   ]
  },
  {
   "cell_type": "markdown",
   "id": "53506282-0b82-414c-acf7-d551eeccf0ab",
   "metadata": {},
   "source": [
    "**slicing** "
   ]
  },
  {
   "cell_type": "code",
   "execution_count": 12,
   "id": "736c1e8e-82c8-45d0-9213-77c4195560ec",
   "metadata": {},
   "outputs": [
    {
     "data": {
      "text/plain": [
       "tensor([0, 1, 2, 3])"
      ]
     },
     "execution_count": 12,
     "metadata": {},
     "output_type": "execute_result"
    }
   ],
   "source": [
    "range[0:4] "
   ]
  },
  {
   "cell_type": "code",
   "execution_count": null,
   "id": "711f7ed7-68e8-45bc-a05e-2386ee3ae26b",
   "metadata": {},
   "outputs": [],
   "source": []
  }
 ],
 "metadata": {
  "kernelspec": {
   "display_name": "Python 3 (ipykernel)",
   "language": "python",
   "name": "python3"
  },
  "language_info": {
   "codemirror_mode": {
    "name": "ipython",
    "version": 3
   },
   "file_extension": ".py",
   "mimetype": "text/x-python",
   "name": "python",
   "nbconvert_exporter": "python",
   "pygments_lexer": "ipython3",
   "version": "3.11.5"
  }
 },
 "nbformat": 4,
 "nbformat_minor": 5
}
